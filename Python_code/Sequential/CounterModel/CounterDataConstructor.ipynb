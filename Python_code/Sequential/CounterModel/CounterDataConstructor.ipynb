{
 "cells": [
  {
   "cell_type": "code",
   "execution_count": 1,
   "id": "f3d424d8",
   "metadata": {},
   "outputs": [],
   "source": [
    "import pandas as pd\n",
    "import numpy as np\n",
    "import random\n",
    "\n",
    "Counter_Verification_Data = pd.DataFrame(columns = [\"clk\",\"rising\",\"count\",\"count_next\",\"correct\"])\n",
    "Counter_Correction_Data = pd.DataFrame(columns = [\"clk\",\"rising\",\"count\",\"count_next\"])\n",
    "Counter_Correction_Data_Renormalized = pd.DataFrame(columns = [\"clk\",\"rising\",\"count\",\"count_next\"])\n",
    "readin = pd.read_csv(\"counter_csv\")"
   ]
  },
  {
   "cell_type": "code",
   "execution_count": 2,
   "id": "0166f6ed",
   "metadata": {},
   "outputs": [
    {
     "name": "stderr",
     "output_type": "stream",
     "text": [
      "<ipython-input-2-aaa9feb751a9>:13: SettingWithCopyWarning: \n",
      "A value is trying to be set on a copy of a slice from a DataFrame\n",
      "\n",
      "See the caveats in the documentation: https://pandas.pydata.org/pandas-docs/stable/user_guide/indexing.html#returning-a-view-versus-a-copy\n",
      "  Counter_Correction_Data_Renormalized[\"count\"][item] = (readin[\"count\"][item]/31)\n"
     ]
    }
   ],
   "source": [
    "Counter_Correction_Data[\"clk\"] = readin[\"clk\"]\n",
    "Counter_Correction_Data[\"rising\"] = readin[\"rising_edge\"]\n",
    "Counter_Correction_Data[\"count\"] = readin[\"count\"]\n",
    "Counter_Correction_Data[\"count_next\"] = readin[\"count_next\"]\n",
    "\n",
    "Counter_Correction_Data.to_csv(\"Counter_Correction_DataNonNormalized.csv\")\n",
    "\n",
    "Counter_Correction_Data_Renormalized[\"clk\"] = readin[\"clk\"]\n",
    "Counter_Correction_Data_Renormalized[\"rising\"] = readin[\"rising_edge\"]\n",
    "Counter_Correction_Data_Renormalized[\"count_next\"] = readin[\"count_next\"]\n",
    "\n",
    "for item in list(range(0,len(readin))):\n",
    "    Counter_Correction_Data_Renormalized[\"count\"][item] = (readin[\"count\"][item]/31)\n",
    "    \n",
    "Counter_Correction_Data_Renormalized.to_csv(\"Counter_Correction_DataNormalized.csv\")"
   ]
  },
  {
   "cell_type": "code",
   "execution_count": 9,
   "id": "2c90a87b",
   "metadata": {},
   "outputs": [],
   "source": [
    "Counter_Verification_Data[\"clk\"] = Counter_Correction_Data[\"clk\"]\n",
    "Counter_Verification_Data[\"rising\"] = Counter_Correction_Data[\"rising\"]\n",
    "Counter_Verification_Data[\"count\"] = Counter_Correction_Data[\"count\"]\n",
    "Counter_Verification_Data[\"count_next\"] = Counter_Correction_Data[\"count_next\"]\n",
    "Counter_Verification_Data[\"correct\"] = Counter_Correction_Data[\"clk\"]\n",
    "\n",
    "for item in list(range(0,len(readin))):\n",
    "    check = random.randint(0,9);\n",
    "    if(check%2 == 1):\n",
    "        Counter_Verification_Data[\"correct\"][item] = 0;\n",
    "        #while(Counter_Verification_Data[\"count_next\"][item] == Counter_Correction_Data[\"count_next\"][item]):\n",
    "        Counter_Verification_Data[\"count_next\"][item] = 32#random.randint(0,31)\n",
    "    elif(check%2 == 0):\n",
    "        Counter_Verification_Data[\"correct\"][item] = 1;\n",
    "    else:\n",
    "        print(\"uhoh2\")\n",
    "\n",
    "Counter_Verification_Data.to_csv(\"Counter_Verification_Data.csv\")"
   ]
  },
  {
   "cell_type": "code",
   "execution_count": null,
   "id": "be7eb9e4",
   "metadata": {},
   "outputs": [],
   "source": []
  },
  {
   "cell_type": "code",
   "execution_count": null,
   "id": "5fef40fe",
   "metadata": {},
   "outputs": [],
   "source": []
  }
 ],
 "metadata": {
  "kernelspec": {
   "display_name": "Python 3",
   "language": "python",
   "name": "python3"
  },
  "language_info": {
   "codemirror_mode": {
    "name": "ipython",
    "version": 3
   },
   "file_extension": ".py",
   "mimetype": "text/x-python",
   "name": "python",
   "nbconvert_exporter": "python",
   "pygments_lexer": "ipython3",
   "version": "3.8.8"
  }
 },
 "nbformat": 4,
 "nbformat_minor": 5
}
