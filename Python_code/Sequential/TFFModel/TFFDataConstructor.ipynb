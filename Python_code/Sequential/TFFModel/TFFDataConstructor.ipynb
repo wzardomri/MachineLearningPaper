{
 "cells": [
  {
   "cell_type": "code",
   "execution_count": 11,
   "id": "643f0726",
   "metadata": {},
   "outputs": [],
   "source": [
    "import pandas as pd\n",
    "import numpy as np\n",
    "import random\n",
    "\n",
    "TFF_Verification_Data = pd.DataFrame(columns = [\"time\",\"clock\",\"rising\",\"T\",\"Q\",\"Q+\",\"correct\"])\n",
    "TFF_Correction_Data = pd.DataFrame(columns = [])\n",
    "readin = pd.read_csv(\"TFF_csv\")"
   ]
  },
  {
   "cell_type": "code",
   "execution_count": 12,
   "id": "052dfc90",
   "metadata": {},
   "outputs": [],
   "source": [
    "TFF_Correction_Data = readin\n",
    "TFF_Correction_Data.to_csv(\"TFF_Correction_Data.csv\")"
   ]
  },
  {
   "cell_type": "code",
   "execution_count": 13,
   "id": "a77e933a",
   "metadata": {},
   "outputs": [],
   "source": [
    "TFF_Verification_Data[\"time\"] = TFF_Correction_Data[\"time\"]\n",
    "TFF_Verification_Data[\"clock\"] = TFF_Correction_Data[\"clk\"]\n",
    "TFF_Verification_Data[\"rising\"] = TFF_Correction_Data[\"rising_edge\"]\n",
    "TFF_Verification_Data[\"T\"] = TFF_Correction_Data[\"T\"]\n",
    "TFF_Verification_Data[\"Q\"] = TFF_Correction_Data[\"Q\"]\n",
    "TFF_Verification_Data[\"Q+\"] = TFF_Correction_Data[\"Q+\"]\n",
    "TFF_Verification_Data[\"correct\"] = TFF_Correction_Data[\"Q+\"]\n",
    "\n",
    "for item in list(range(0,len(readin))):\n",
    "    check = random.randint(0,9);\n",
    "    if(check%2 == 1):\n",
    "        TFF_Verification_Data[\"correct\"][item] = 0;\n",
    "        if(TFF_Verification_Data[\"Q+\"][item] == 1):\n",
    "            TFF_Verification_Data[\"Q+\"][item] = 0\n",
    "        elif(TFF_Verification_Data[\"Q+\"][item] == 0):\n",
    "            TFF_Verification_Data[\"Q+\"][item] = 1\n",
    "        else:\n",
    "            print(\"ruhrojhraggy\")\n",
    "    elif(check%2 == 0):\n",
    "        TFF_Verification_Data[\"correct\"][item] = 1;\n",
    "    else:\n",
    "        print(\"uhoh2\")\n",
    "\n",
    "TFF_Verification_Data.to_csv(\"TFF_Verification_Data.csv\")"
   ]
  },
  {
   "cell_type": "code",
   "execution_count": null,
   "id": "9d5483ba",
   "metadata": {},
   "outputs": [],
   "source": []
  },
  {
   "cell_type": "code",
   "execution_count": null,
   "id": "f4398868",
   "metadata": {},
   "outputs": [],
   "source": []
  }
 ],
 "metadata": {
  "kernelspec": {
   "display_name": "Python 3",
   "language": "python",
   "name": "python3"
  },
  "language_info": {
   "codemirror_mode": {
    "name": "ipython",
    "version": 3
   },
   "file_extension": ".py",
   "mimetype": "text/x-python",
   "name": "python",
   "nbconvert_exporter": "python",
   "pygments_lexer": "ipython3",
   "version": "3.8.8"
  }
 },
 "nbformat": 4,
 "nbformat_minor": 5
}
