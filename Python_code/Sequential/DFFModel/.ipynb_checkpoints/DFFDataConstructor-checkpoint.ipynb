{
 "cells": [
  {
   "cell_type": "code",
   "execution_count": 8,
   "id": "830eaa5d",
   "metadata": {},
   "outputs": [],
   "source": [
    "import pandas as pd\n",
    "import numpy as np\n",
    "import random\n",
    "\n",
    "DFF_Verification_Data = pd.DataFrame(columns = [\"time\",\"clock\",\"rising\",\"D\",\"Q\",\"Q+\",\"correct\"])\n",
    "DFF_Correction_Data = pd.DataFrame(columns = [])\n",
    "readin = pd.read_csv(\"DFF_csv\")"
   ]
  },
  {
   "cell_type": "code",
   "execution_count": 9,
   "id": "cb34d584",
   "metadata": {},
   "outputs": [],
   "source": [
    "DFF_Correction_Data = readin\n",
    "DFF_Correction_Data.to_csv(\"DFF_Correction_Data.csv\")"
   ]
  },
  {
   "cell_type": "code",
   "execution_count": 10,
   "id": "21ea3646",
   "metadata": {},
   "outputs": [],
   "source": [
    "DFF_Verification_Data[\"time\"] = DFF_Correction_Data[\"time\"]\n",
    "DFF_Verification_Data[\"clock\"] = DFF_Correction_Data[\"clk\"]\n",
    "DFF_Verification_Data[\"rising\"] = DFF_Correction_Data[\"rising_edge\"]\n",
    "DFF_Verification_Data[\"D\"] = DFF_Correction_Data[\"D\"]\n",
    "DFF_Verification_Data[\"Q\"] = DFF_Correction_Data[\"Q\"]\n",
    "DFF_Verification_Data[\"Q+\"] = DFF_Correction_Data[\"Q+\"]\n",
    "DFF_Verification_Data[\"correct\"] = DFF_Correction_Data[\"Q+\"]\n",
    "\n",
    "for item in list(range(0,len(readin))):\n",
    "    check = random.randint(0,9);\n",
    "    if(check%2 == 1):\n",
    "        DFF_Verification_Data[\"correct\"][item] = 0;\n",
    "        if(DFF_Verification_Data[\"Q+\"][item] == 1):\n",
    "            DFF_Verification_Data[\"Q+\"][item] = 0\n",
    "        elif(DFF_Verification_Data[\"Q+\"][item] == 0):\n",
    "            DFF_Verification_Data[\"Q+\"][item] = 1\n",
    "        else:\n",
    "            print(\"ruhrojhraggy\")\n",
    "    elif(check%2 == 0):\n",
    "        DFF_Verification_Data[\"correct\"][item] = 1;\n",
    "    else:\n",
    "        print(\"uhoh2\")\n",
    "\n",
    "DFF_Verification_Data.to_csv(\"DFF_Verification_Data.csv\")"
   ]
  },
  {
   "cell_type": "code",
   "execution_count": null,
   "id": "ba92483a",
   "metadata": {},
   "outputs": [],
   "source": []
  }
 ],
 "metadata": {
  "kernelspec": {
   "display_name": "Python 3",
   "language": "python",
   "name": "python3"
  },
  "language_info": {
   "codemirror_mode": {
    "name": "ipython",
    "version": 3
   },
   "file_extension": ".py",
   "mimetype": "text/x-python",
   "name": "python",
   "nbconvert_exporter": "python",
   "pygments_lexer": "ipython3",
   "version": "3.8.8"
  }
 },
 "nbformat": 4,
 "nbformat_minor": 5
}
