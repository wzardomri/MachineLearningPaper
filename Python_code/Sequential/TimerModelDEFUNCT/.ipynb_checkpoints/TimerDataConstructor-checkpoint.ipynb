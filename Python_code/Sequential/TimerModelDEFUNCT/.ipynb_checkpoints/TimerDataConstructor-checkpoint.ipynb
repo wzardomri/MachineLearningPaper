{
 "cells": [
  {
   "cell_type": "code",
   "execution_count": 99,
   "id": "de8babf6",
   "metadata": {},
   "outputs": [],
   "source": [
    "import pandas as pd\n",
    "import numpy as np\n",
    "import random\n",
    "\n",
    "timer_Verification_Data_Edge = pd.DataFrame(columns = [\"time\", \"input\", \"outputchanged\", \"correct\"])\n",
    "timer_Verification_Data_Value = pd.DataFrame(columns = [\"time\", \"input\", \"outputchanged\", \"correct\"])\n",
    "timer_Correction_Data_Edge = pd.DataFrame(columns = [\"time\", \"input\", \"output\"])\n",
    "timer_Correction_Data_Value = pd.DataFrame(columns = [\"time\", \"input\", \"output\"])\n",
    "\n",
    "readin = pd.read_csv(\"timercsv.txt\")"
   ]
  },
  {
   "cell_type": "code",
   "execution_count": 100,
   "id": "2906ef5a",
   "metadata": {},
   "outputs": [],
   "source": [
    "timer_Correction_Data_Edge[\"time\"] = readin[\"time\"]\n",
    "timer_Correction_Data_Edge[\"input\"] = readin[\"input\"]\n",
    "timer_Correction_Data_Edge[\"output\"] = readin[\"output\"]\n",
    "\n",
    "timer_Correction_Data_Value[\"time\"] = np.zeros(int(np.floor(len(readin)/4)), dtype=int)\n",
    "timer_Correction_Data_Value[\"input\"] = np.zeros(int(np.floor(len(readin)/4)), dtype=int)\n",
    "timer_Correction_Data_Value[\"output\"] = np.zeros(int(np.floor(len(readin)/4)), dtype=int)\n",
    "\n",
    "timerpos = 0\n",
    "for item in list(range(0,len(readin))):\n",
    "    if(item%4 == 0):\n",
    "        timer_Correction_Data_Value[\"time\"][timerpos] = int(timer_Correction_Data_Value[\"time\"][timerpos])\n",
    "        timer_Correction_Data_Value[\"input\"][timerpos] = int(timer_Correction_Data_Value[\"input\"][timerpos])\n",
    "        timer_Correction_Data_Value[\"output\"][timerpos] = int(timer_Correction_Data_Value[\"output\"][timerpos])\n",
    "        timer_Correction_Data_Value[\"time\"][timerpos] = timerpos\n",
    "        timer_Correction_Data_Value[\"input\"][timerpos] = int(readin[\"input\"][item])\n",
    "        timer_Correction_Data_Value[\"output\"][timerpos] = int(readin[\"output\"][item])\n",
    "        timerpos = timerpos + 1\n"
   ]
  },
  {
   "cell_type": "code",
   "execution_count": 101,
   "id": "9067ab5c",
   "metadata": {},
   "outputs": [],
   "source": [
    "timer_Correction_Data_Value.to_csv(\"timer_Correction_Data_Value.csv\")\n",
    "timer_Correction_Data_Edge.to_csv(\"timer_Correction_Data_Edge.csv\")"
   ]
  },
  {
   "cell_type": "code",
   "execution_count": 102,
   "id": "56566167",
   "metadata": {},
   "outputs": [],
   "source": [
    "timer_Verification_Data_Edge[\"time\"] = readin[\"time\"]\n",
    "timer_Verification_Data_Edge[\"input\"] = readin[\"input\"]\n",
    "timer_Verification_Data_Edge[\"outputchanged\"] = readin[\"output\"]\n",
    "timer_Verification_Data_Edge[\"correct\"] = readin[\"input\"]\n",
    "\n",
    "timer_Verification_Data_Value[\"time\"] = np.zeros(int(np.floor(len(readin)/4)), dtype=int)\n",
    "timer_Verification_Data_Value[\"input\"] = np.zeros(int(np.floor(len(readin)/4)), dtype=int)\n",
    "timer_Verification_Data_Value[\"outputchanged\"] = np.zeros(int(np.floor(len(readin)/4)), dtype=int)\n",
    "timer_Verification_Data_Value[\"correct\"] = np.zeros(int(np.floor(len(readin)/4)), dtype=int)\n",
    "\n",
    "timerpos = 0;\n",
    "numbers = [1,2,1,2,1,2,2,1,2,2]\n",
    "\n",
    "for item in list(range(0,len(readin))):\n",
    "    check = random.randint(0,9);\n",
    "    check = numbers[check]\n",
    "    if(check%2 == 1):\n",
    "        timer_Verification_Data_Edge[\"correct\"][item] = 0;\n",
    "            \n",
    "        timeroutput = random.randint(0,31);\n",
    "        while(timeroutput == timer_Verification_Data_Edge[\"outputchanged\"][item]):\n",
    "            timeroutput = random.randint(0,31);\n",
    "        timer_Verification_Data_Edge[\"outputchanged\"][item] = timeroutput;\n",
    "        if(item%4 == 0):\n",
    "            timer_Verification_Data_Value[\"time\"][timerpos] = timerpos;\n",
    "            timer_Verification_Data_Value[\"input\"][timerpos] = timer_Verification_Data_Edge[\"input\"][item];\n",
    "            timer_Verification_Data_Value[\"outputchanged\"][timerpos] = timer_Verification_Data_Edge[\"outputchanged\"][item];\n",
    "            timer_Verification_Data_Value[\"correct\"][timerpos] = timer_Verification_Data_Edge[\"correct\"][item];\n",
    "            timerpos = timerpos + 1\n",
    "            \n",
    "    elif(check%2 == 0):\n",
    "        timer_Verification_Data_Edge[\"correct\"][item] = 1;\n",
    "        if(item%4 == 0):\n",
    "            timer_Verification_Data_Value[\"time\"][timerpos] = timerpos;\n",
    "            timer_Verification_Data_Value[\"input\"][timerpos] = timer_Verification_Data_Edge[\"input\"][item];\n",
    "            timer_Verification_Data_Value[\"outputchanged\"][timerpos] = timer_Verification_Data_Edge[\"outputchanged\"][item];\n",
    "            timer_Verification_Data_Value[\"correct\"][timerpos] = timer_Verification_Data_Edge[\"correct\"][item];\n",
    "            timerpos = timerpos + 1\n",
    "\n",
    "    else:\n",
    "        print(\"uhoh2\")"
   ]
  },
  {
   "cell_type": "code",
   "execution_count": 103,
   "id": "e8159673",
   "metadata": {},
   "outputs": [],
   "source": [
    "timer_Verification_Data_Value.to_csv(\"timer_Verification_Data_Value.csv\")\n",
    "timer_Verification_Data_Edge.to_csv(\"timer_Verification_Data_Edge.csv\")"
   ]
  },
  {
   "cell_type": "code",
   "execution_count": null,
   "id": "a3a8fd61",
   "metadata": {},
   "outputs": [],
   "source": []
  }
 ],
 "metadata": {
  "kernelspec": {
   "display_name": "Python 3",
   "language": "python",
   "name": "python3"
  },
  "language_info": {
   "codemirror_mode": {
    "name": "ipython",
    "version": 3
   },
   "file_extension": ".py",
   "mimetype": "text/x-python",
   "name": "python",
   "nbconvert_exporter": "python",
   "pygments_lexer": "ipython3",
   "version": "3.8.8"
  }
 },
 "nbformat": 4,
 "nbformat_minor": 5
}
