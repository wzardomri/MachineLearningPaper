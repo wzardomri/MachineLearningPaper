{
 "cells": [
  {
   "cell_type": "code",
   "execution_count": 1,
   "id": "26a7e82e",
   "metadata": {},
   "outputs": [
    {
     "name": "stderr",
     "output_type": "stream",
     "text": [
      "/Users/omristeinberg-tatman/opt/anaconda3/lib/python3.8/site-packages/scipy/__init__.py:138: UserWarning: A NumPy version >=1.16.5 and <1.23.0 is required for this version of SciPy (detected version 1.23.4)\n",
      "  warnings.warn(f\"A NumPy version >={np_minversion} and <{np_maxversion} is required for this version of \"\n"
     ]
    }
   ],
   "source": [
    "import tensorflow as tf\n",
    "import pandas as pd\n",
    "import numpy as np\n",
    "from sklearn.model_selection import train_test_split\n",
    "import pickle\n",
    "from matplotlib import pyplot\n",
    "from keras.optimizers import SGD\n",
    "np.set_printoptions(threshold=np.sys.maxsize)"
   ]
  },
  {
   "cell_type": "code",
   "execution_count": 2,
   "id": "c90bb20d",
   "metadata": {},
   "outputs": [
    {
     "name": "stdout",
     "output_type": "stream",
     "text": [
      "(70000, 4) (34159, 4) (70000,) (34159,)\n"
     ]
    }
   ],
   "source": [
    "#define the data\n",
    "FullData = pd.read_csv(\"timer_Verification_Data_Edge.csv\")\n",
    "\n",
    "x, y = FullData.values[:, :-1], FullData.values[:, -1]\n",
    "x_train =  x[0:70000]\n",
    "x_test =  x[70001:104160]\n",
    "y_train = y[0:70000]\n",
    "y_test = y[70001:104160]\n",
    "print(x_train.shape, x_test.shape, y_train.shape, y_test.shape)\n",
    "n_features = x_train.shape[1]"
   ]
  },
  {
   "cell_type": "code",
   "execution_count": 3,
   "id": "b394eadb",
   "metadata": {},
   "outputs": [],
   "source": [
    "# define the model\n",
    "model = tf.keras.Sequential()\n",
    "model.add(tf.keras.layers.Dense(100, input_shape=(n_features,), activation= \"relu\"))\n",
    "model.add(tf.keras.layers.Dense(80, activation= \"relu\"))\n",
    "model.add(tf.keras.layers.Dense(80, activation= \"relu\"))\n",
    "model.add(tf.keras.layers.Dense(80, activation= \"relu\"))\n",
    "model.add(tf.keras.layers.Dense(30, activation= \"relu\"))\n",
    "model.add(tf.keras.layers.Dense(30, activation= \"relu\"))\n",
    "model.add(tf.keras.layers.Dense(30, activation= \"relu\"))\n",
    "model.add(tf.keras.layers.Dense(30, activation= \"relu\"))\n",
    "model.add(tf.keras.layers.Dense(10, activation= \"relu\"))\n",
    "model.add(tf.keras.layers.Dense(10, activation= \"relu\"))\n",
    "model.add(tf.keras.layers.Dense(10, activation= \"relu\"))\n",
    "model.add(tf.keras.layers.Dense(5, activation= \"relu\"))\n",
    "model.add(tf.keras.layers.Dense(5, activation= \"relu\"))\n",
    "model.add(tf.keras.layers.Dense(5, activation= \"relu\"))\n",
    "model.add(tf.keras.layers.Dense(5, activation= \"relu\"))\n",
    "model.add(tf.keras.layers.Dense(5, activation= \"relu\"))\n",
    "model.add(tf.keras.layers.Dense(1, activation='softmax'))\n",
    "\n",
    "opt = SGD(lr=0.01)#, momentum=0.9)\n",
    "\n",
    "model.compile(optimizer=opt, loss=\"binary_crossentropy\", metrics=['accuracy'])"
   ]
  },
  {
   "cell_type": "code",
   "execution_count": 6,
   "id": "e5f8da34",
   "metadata": {},
   "outputs": [
    {
     "name": "stdout",
     "output_type": "stream",
     "text": [
      "Epoch 1/10\n",
      "1/1 [==============================] - 1s 508ms/step - loss: 0.6720 - accuracy: 0.6024\n",
      "Epoch 2/10\n",
      "1/1 [==============================] - 0s 105ms/step - loss: 0.6720 - accuracy: 0.6024\n",
      "Epoch 3/10\n",
      "1/1 [==============================] - 0s 101ms/step - loss: 0.6720 - accuracy: 0.6024\n",
      "Epoch 4/10\n",
      "1/1 [==============================] - 0s 117ms/step - loss: 0.6720 - accuracy: 0.6024\n",
      "Epoch 5/10\n",
      "1/1 [==============================] - 0s 107ms/step - loss: 0.6720 - accuracy: 0.6024\n",
      "Epoch 6/10\n",
      "1/1 [==============================] - 0s 106ms/step - loss: 0.6720 - accuracy: 0.6024\n",
      "Epoch 7/10\n",
      "1/1 [==============================] - 0s 114ms/step - loss: 0.6720 - accuracy: 0.6024\n",
      "Epoch 8/10\n",
      "1/1 [==============================] - 0s 115ms/step - loss: 0.6720 - accuracy: 0.6024\n",
      "Epoch 9/10\n",
      "1/1 [==============================] - 0s 110ms/step - loss: 0.6720 - accuracy: 0.6024\n",
      "Epoch 10/10\n",
      "1/1 [==============================] - 0s 118ms/step - loss: 0.6720 - accuracy: 0.6024\n"
     ]
    }
   ],
   "source": [
    "history = model.fit(x_train, y_train, epochs=10, verbose=1#, batch_size = 70000)"
   ]
  },
  {
   "cell_type": "code",
   "execution_count": null,
   "id": "fbd908c1",
   "metadata": {},
   "outputs": [],
   "source": []
  }
 ],
 "metadata": {
  "kernelspec": {
   "display_name": "Python 3",
   "language": "python",
   "name": "python3"
  },
  "language_info": {
   "codemirror_mode": {
    "name": "ipython",
    "version": 3
   },
   "file_extension": ".py",
   "mimetype": "text/x-python",
   "name": "python",
   "nbconvert_exporter": "python",
   "pygments_lexer": "ipython3",
   "version": "3.8.8"
  }
 },
 "nbformat": 4,
 "nbformat_minor": 5
}
