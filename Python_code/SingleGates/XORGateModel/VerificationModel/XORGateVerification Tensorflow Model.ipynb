{
 "cells": [
  {
   "cell_type": "code",
   "execution_count": 1,
   "id": "4aaf04e4",
   "metadata": {},
   "outputs": [
    {
     "name": "stderr",
     "output_type": "stream",
     "text": [
      "/Users/omristeinberg-tatman/opt/anaconda3/lib/python3.8/site-packages/scipy/__init__.py:138: UserWarning: A NumPy version >=1.16.5 and <1.23.0 is required for this version of SciPy (detected version 1.23.4)\n",
      "  warnings.warn(f\"A NumPy version >={np_minversion} and <{np_maxversion} is required for this version of \"\n"
     ]
    }
   ],
   "source": [
    "import tensorflow as tf\n",
    "import pandas as pd\n",
    "import numpy as np\n",
    "from sklearn.model_selection import train_test_split\n",
    "import pickle\n",
    "from matplotlib import pyplot\n",
    "from keras.optimizers import SGD\n",
    "np.set_printoptions(threshold=np.sys.maxsize)"
   ]
  },
  {
   "cell_type": "code",
   "execution_count": 2,
   "id": "bde7f72d",
   "metadata": {},
   "outputs": [
    {
     "name": "stdout",
     "output_type": "stream",
     "text": [
      "(20000, 3) (9999, 3) (20000,) (9999,)\n"
     ]
    }
   ],
   "source": [
    "#define the data\n",
    "FullData = pd.read_csv(\"XORGate_Verification_Data.csv\")[0:29999]\n",
    "\n",
    "x, y = FullData.values[:, 2:-1], FullData.values[:, -1]\n",
    "x_train, x_test, y_train, y_test = train_test_split(x, y, test_size=0.3333)\n",
    "print(x_train.shape, x_test.shape, y_train.shape, y_test.shape)\n",
    "n_features = x_train.shape[1]"
   ]
  },
  {
   "cell_type": "code",
   "execution_count": 3,
   "id": "4fc7dad0",
   "metadata": {},
   "outputs": [],
   "source": [
    "# define the model\n",
    "model = tf.keras.Sequential()\n",
    "model.add(tf.keras.layers.Dense(100, input_shape=(n_features,), activation= \"relu\"))\n",
    "model.add(tf.keras.layers.Dense(80, activation= \"relu\"))\n",
    "model.add(tf.keras.layers.Dense(80, activation= \"relu\"))\n",
    "model.add(tf.keras.layers.Dense(80, activation= \"relu\"))\n",
    "model.add(tf.keras.layers.Dense(30, activation= \"relu\"))\n",
    "model.add(tf.keras.layers.Dense(30, activation= \"relu\"))\n",
    "model.add(tf.keras.layers.Dense(30, activation= \"relu\"))\n",
    "model.add(tf.keras.layers.Dense(30, activation= \"relu\"))\n",
    "model.add(tf.keras.layers.Dense(10, activation= \"relu\"))\n",
    "model.add(tf.keras.layers.Dense(10, activation= \"relu\"))\n",
    "model.add(tf.keras.layers.Dense(10, activation= \"relu\"))\n",
    "model.add(tf.keras.layers.Dense(5, activation= \"relu\"))\n",
    "model.add(tf.keras.layers.Dense(5, activation= \"relu\"))\n",
    "model.add(tf.keras.layers.Dense(5, activation= \"relu\"))\n",
    "model.add(tf.keras.layers.Dense(5, activation= \"relu\"))\n",
    "model.add(tf.keras.layers.Dense(5, activation= \"relu\"))\n",
    "model.add(tf.keras.layers.Dense(1, activation='sigmoid'))\n",
    "\n",
    "predictions = model(np.asarray(x_train).astype('float32')).numpy()\n",
    "#tf.nn.softmax(predictions).numpy()\n",
    "loss_fn = tf.keras.losses.MeanSquaredError(name='mean_squared_error')#tf.keras.losses.MeanAbsoluteError()#tf.keras.losses.SparseCategoricalCrossentropy()\n",
    "loss_fn(y_train[:1], predictions).numpy()\n",
    "opt = SGD(lr=0.01)\n",
    "\n",
    "\n",
    "model.compile(optimizer=opt, loss=\"binary_crossentropy\", metrics=['accuracy'])"
   ]
  },
  {
   "cell_type": "code",
   "execution_count": 5,
   "id": "ab429d05",
   "metadata": {},
   "outputs": [
    {
     "name": "stdout",
     "output_type": "stream",
     "text": [
      "625/625 [==============================] - 1s 1ms/step - loss: 1.2419e-06 - accuracy: 1.0000\n"
     ]
    }
   ],
   "source": [
    "history = model.fit(x_train, y_train, epochs=1)"
   ]
  },
  {
   "cell_type": "code",
   "execution_count": 31,
   "id": "de355faf",
   "metadata": {},
   "outputs": [
    {
     "name": "stdout",
     "output_type": "stream",
     "text": [
      "Train: 1.000, Test: 1.000\n"
     ]
    },
    {
     "data": {
      "image/png": "[encoded data removed]",
      "text/plain": [
       "<Figure size 432x288 with 2 Axes>"
      ]
     },
     "metadata": {
      "needs_background": "light"
     },
     "output_type": "display_data"
    }
   ],
   "source": [
    "_, train_acc = model.evaluate(x_train, y_train, verbose=0)\n",
    "_, test_acc = model.evaluate(x_test, y_test, verbose=0)\n",
    "print('Train: %.3f, Test: %.3f' % (train_acc, test_acc))\n",
    "# plot loss during training\n",
    "pyplot.subplot(211)\n",
    "pyplot.title('Loss')\n",
    "pyplot.plot(history.history['loss'], label='train')\n",
    "pyplot.legend()\n",
    "# plot accuracy during training\n",
    "pyplot.subplot(212)\n",
    "pyplot.title('Accuracy')\n",
    "pyplot.plot(history.history['accuracy'], label='train')\n",
    "pyplot.legend()\n",
    "pyplot.show()"
   ]
  },
  {
   "cell_type": "code",
   "execution_count": 32,
   "id": "89714fa9",
   "metadata": {},
   "outputs": [],
   "source": [
    "with open('XORverificationmodel.pkl', 'wb') as f:\n",
    "    pickle.dump({'weights': model.get_weights(), 'history': history.history}, f)"
   ]
  },
  {
   "cell_type": "code",
   "execution_count": 4,
   "id": "8d637106",
   "metadata": {},
   "outputs": [],
   "source": [
    "# load the weights and history from the file and evaluate the model\n",
    "with open('XORverificationmodel.pkl', 'rb') as f:\n",
    "    data = pickle.load(f)\n",
    "model.set_weights(data['weights'])"
   ]
  },
  {
   "cell_type": "code",
   "execution_count": null,
   "id": "c4c5369a",
   "metadata": {},
   "outputs": [],
   "source": []
  },
  {
   "cell_type": "code",
   "execution_count": 34,
   "id": "2e10b1a1",
   "metadata": {},
   "outputs": [
    {
     "name": "stdout",
     "output_type": "stream",
     "text": [
      "313/313 [==============================] - 0s 1ms/step - loss: 1.2463e-06 - accuracy: 1.0000\n",
      "Test loss: 1.2462925269574043e-06\n",
      "Test accuracy: 1.0\n"
     ]
    }
   ],
   "source": [
    "score = model.evaluate(x_test, y_test)\n",
    "print('Test loss:', score[0])\n",
    "print('Test accuracy:', score[1])"
   ]
  },
  {
   "cell_type": "code",
   "execution_count": 35,
   "id": "b8122e64",
   "metadata": {},
   "outputs": [
    {
     "name": "stdout",
     "output_type": "stream",
     "text": [
      "313/313 [==============================] - 0s 1ms/step - loss: 1.2463e-06 - accuracy: 1.0000\n",
      "Accuracy: 1.0\n"
     ]
    }
   ],
   "source": [
    "# evaluate the model on the test data\n",
    "loss, accuracy = model.evaluate(x_test, y_test, verbose=1)\n",
    "\n",
    "# print the accuracy\n",
    "print('Accuracy:', accuracy)\n",
    "\n",
    "# create a chart of the model's predictions\n",
    "predictions = model.predict(x_test)"
   ]
  },
  {
   "cell_type": "code",
   "execution_count": 6,
   "id": "dd7043c9",
   "metadata": {},
   "outputs": [
    {
     "name": "stdout",
     "output_type": "stream",
     "text": [
      "Class 0:\n",
      "  Total: 4933\n",
      "  Correct: 4933\n",
      "  True 0: 4933\n",
      "  False 1: 0\n",
      "  Accuracy: 1.0\n",
      "Class 1:\n",
      "  Total: 5066\n",
      "  Correct: 5066\n",
      "  True 1: 5066\n",
      "  False 0: 0\n",
      "  Accuracy: 1.0\n"
     ]
    }
   ],
   "source": [
    "y_pred = model.predict(x_test)\n",
    "y_pred_classes = np.round(y_pred).flatten()\n",
    "\n",
    "# compute class-wise accuracy and confusion matrix\n",
    "class_0_correct = 0\n",
    "class_0_total = 0\n",
    "class_0_true_0 = 0\n",
    "class_0_false_1 = 0\n",
    "class_1_correct = 0\n",
    "class_1_total = 0\n",
    "class_1_true_1 = 0\n",
    "class_1_false_0 = 0\n",
    "for i in range(len(y_test)):\n",
    "    true_class = y_test[i]\n",
    "    pred_class = y_pred_classes[i]\n",
    "    if true_class == 0:\n",
    "        class_0_total += 1\n",
    "        if pred_class == 0:\n",
    "            class_0_correct += 1\n",
    "            class_0_true_0 += 1\n",
    "        else:\n",
    "            class_0_false_1 += 1\n",
    "    elif true_class == 1:\n",
    "        class_1_total += 1\n",
    "        if pred_class == 1:\n",
    "            class_1_correct += 1\n",
    "            class_1_true_1 += 1\n",
    "        else:\n",
    "            class_1_false_0 += 1\n",
    "\n",
    "class_0_accuracy = class_0_correct / class_0_total\n",
    "class_1_accuracy = class_1_correct / class_1_total\n",
    "\n",
    "print(\"Class 0:\")\n",
    "print(f\"  Total: {class_0_total}\")\n",
    "print(f\"  Correct: {class_0_correct}\")\n",
    "print(f\"  True 0: {class_0_true_0}\")\n",
    "print(f\"  False 1: {class_0_false_1}\")\n",
    "print(f\"  Accuracy: {class_0_accuracy}\")\n",
    "print(\"Class 1:\")\n",
    "print(f\"  Total: {class_1_total}\")\n",
    "print(f\"  Correct: {class_1_correct}\")\n",
    "print(f\"  True 1: {class_1_true_1}\")\n",
    "print(f\"  False 0: {class_1_false_0}\")\n",
    "print(f\"  Accuracy: {class_1_accuracy}\")"
   ]
  },
  {
   "cell_type": "code",
   "execution_count": null,
   "id": "22157db6",
   "metadata": {},
   "outputs": [],
   "source": []
  }
 ],
 "metadata": {
  "kernelspec": {
   "display_name": "Python 3 (ipykernel)",
   "language": "python",
   "name": "python3"
  },
  "language_info": {
   "codemirror_mode": {
    "name": "ipython",
    "version": 3
   },
   "file_extension": ".py",
   "mimetype": "text/x-python",
   "name": "python",
   "nbconvert_exporter": "python",
   "pygments_lexer": "ipython3",
   "version": "3.11.4"
  }
 },
 "nbformat": 4,
 "nbformat_minor": 5
}
