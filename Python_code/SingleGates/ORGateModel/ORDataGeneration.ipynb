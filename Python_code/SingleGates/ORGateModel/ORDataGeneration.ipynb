{
 "cells": [
  {
   "cell_type": "code",
   "execution_count": 11,
   "id": "d9e82043",
   "metadata": {},
   "outputs": [],
   "source": [
    "import pandas as pd\n",
    "import numpy as np\n",
    "import random\n",
    "ORGate_Verification_Data = pd.DataFrame(columns = [\"Time\", \"IN1\", \"IN2\", \"OUTCHANGED\", \"CORRECT\"])\n",
    "ORGate_Correction_Data = pd.DataFrame(columns = [\"Time\", \"IN1\", \"IN2\", \"OUT\"])\n",
    "IN1 = np.random.randint(2, size=30000)\n",
    "IN2 = np.random.randint(2, size=30000)\n",
    "TIME = range(0,30000)\n",
    "OUT = np.random.randint(2, size=30000)\n",
    "OUTCHANGED = np.random.randint(2, size=30000)\n",
    "CORRECT = np.random.randint(2, size=30000)"
   ]
  },
  {
   "cell_type": "code",
   "execution_count": 12,
   "id": "4ffb4a28",
   "metadata": {},
   "outputs": [],
   "source": [
    "for time in TIME:\n",
    "    if((IN1[time] == 1 and IN2[time] == 1) or (IN1[time] == 0 and IN2[time] == 1) or (IN1[time] == 1 and IN2[time] == 0)):\n",
    "        OUT[time] = int(1);\n",
    "    else:\n",
    "        OUT[time] = int(0);"
   ]
  },
  {
   "cell_type": "code",
   "execution_count": 13,
   "id": "982f7be3",
   "metadata": {},
   "outputs": [],
   "source": [
    "ORGate_Correction_Data[\"Time\"] = TIME;\n",
    "ORGate_Correction_Data[\"IN1\"] = IN1;\n",
    "ORGate_Correction_Data[\"IN2\"] = IN2;\n",
    "ORGate_Correction_Data[\"OUT\"] = OUT;\n",
    "OUTCHANGED = OUT;"
   ]
  },
  {
   "cell_type": "code",
   "execution_count": 14,
   "id": "7da7ee0e",
   "metadata": {},
   "outputs": [],
   "source": [
    "for item in TIME:\n",
    "    check = random.randint(0,9);\n",
    "    if(check%2 == 1):\n",
    "        CORRECT[item] = 0;\n",
    "        if(OUTCHANGED[item] == 1):\n",
    "            OUTCHANGED[item] = 0;\n",
    "        elif(OUTCHANGED[item] == 0):\n",
    "            OUTCHANGED[item] = 1;\n",
    "        else:\n",
    "            print(\"uhoh1\")\n",
    "    elif(check%2 == 0):\n",
    "        CORRECT[item] = 1;\n",
    "    else:\n",
    "        print(\"uhoh2\")"
   ]
  },
  {
   "cell_type": "code",
   "execution_count": 15,
   "id": "7037bec0",
   "metadata": {},
   "outputs": [],
   "source": [
    "ORGate_Verification_Data[\"Time\"] = TIME;\n",
    "ORGate_Verification_Data[\"IN1\"] = IN1;\n",
    "ORGate_Verification_Data[\"IN2\"] = IN2;\n",
    "ORGate_Verification_Data[\"OUTCHANGED\"] = OUTCHANGED;\n",
    "ORGate_Verification_Data[\"CORRECT\"] = CORRECT"
   ]
  },
  {
   "cell_type": "code",
   "execution_count": 16,
   "id": "afd0698f",
   "metadata": {},
   "outputs": [],
   "source": [
    "ORGate_Verification_Data.to_csv(\"ORGate_Verification_Data.csv\")"
   ]
  },
  {
   "cell_type": "code",
   "execution_count": 17,
   "id": "17b5efc6",
   "metadata": {},
   "outputs": [],
   "source": [
    "ORGate_Correction_Data.to_csv(\"ORGate_Correction_Data.csv\")"
   ]
  },
  {
   "cell_type": "code",
   "execution_count": null,
   "id": "eb763143",
   "metadata": {},
   "outputs": [],
   "source": []
  }
 ],
 "metadata": {
  "kernelspec": {
   "display_name": "Python 3",
   "language": "python",
   "name": "python3"
  },
  "language_info": {
   "codemirror_mode": {
    "name": "ipython",
    "version": 3
   },
   "file_extension": ".py",
   "mimetype": "text/x-python",
   "name": "python",
   "nbconvert_exporter": "python",
   "pygments_lexer": "ipython3",
   "version": "3.8.8"
  }
 },
 "nbformat": 4,
 "nbformat_minor": 5
}
