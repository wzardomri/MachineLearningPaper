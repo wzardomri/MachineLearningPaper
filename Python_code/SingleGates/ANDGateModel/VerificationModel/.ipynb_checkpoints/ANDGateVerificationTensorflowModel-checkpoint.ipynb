{
 "cells": [
  {
   "cell_type": "code",
   "execution_count": 29,
   "id": "c84d9b06",
   "metadata": {},
   "outputs": [],
   "source": [
    "import tensorflow as tf\n",
    "import pandas as pd\n",
    "import numpy as np\n",
    "from sklearn.model_selection import train_test_split\n",
    "import pickle\n",
    "from matplotlib import pyplot\n",
    "from keras.optimizers import SGD\n",
    "np.set_printoptions(threshold=np.sys.maxsize)"
   ]
  },
  {
   "cell_type": "code",
   "execution_count": 38,
   "id": "d8998964",
   "metadata": {},
   "outputs": [
    {
     "name": "stdout",
     "output_type": "stream",
     "text": [
      "(20000, 3) (9999, 3) (20000,) (9999,)\n"
     ]
    }
   ],
   "source": [
    "#define the data\n",
    "FullData = pd.read_csv(\"ANDGate_Verification_Data.csv\")[0:29999]\n",
    "\n",
    "x, y = FullData.values[:, 2:-1], FullData.values[:, -1]\n",
    "x_train, x_test, y_train, y_test = train_test_split(x, y, test_size=0.3333)\n",
    "print(x_train.shape, x_test.shape, y_train.shape, y_test.shape)\n",
    "n_features = x_train.shape[1]"
   ]
  },
  {
   "cell_type": "code",
   "execution_count": null,
   "id": "302261cb",
   "metadata": {},
   "outputs": [],
   "source": []
  },
  {
   "cell_type": "code",
   "execution_count": 39,
   "id": "43e3719d",
   "metadata": {},
   "outputs": [],
   "source": [
    "# define the model\n",
    "model = tf.keras.Sequential()\n",
    "model.add(tf.keras.layers.Dense(100, input_shape=(n_features,), activation= \"relu\"))\n",
    "model.add(tf.keras.layers.Dense(80, activation= \"relu\"))\n",
    "model.add(tf.keras.layers.Dense(80, activation= \"relu\"))\n",
    "model.add(tf.keras.layers.Dense(80, activation= \"relu\"))\n",
    "model.add(tf.keras.layers.Dense(30, activation= \"relu\"))\n",
    "model.add(tf.keras.layers.Dense(30, activation= \"relu\"))\n",
    "model.add(tf.keras.layers.Dense(30, activation= \"relu\"))\n",
    "model.add(tf.keras.layers.Dense(30, activation= \"relu\"))\n",
    "model.add(tf.keras.layers.Dense(10, activation= \"relu\"))\n",
    "model.add(tf.keras.layers.Dense(10, activation= \"relu\"))\n",
    "model.add(tf.keras.layers.Dense(10, activation= \"relu\"))\n",
    "model.add(tf.keras.layers.Dense(5, activation= \"relu\"))\n",
    "model.add(tf.keras.layers.Dense(5, activation= \"relu\"))\n",
    "model.add(tf.keras.layers.Dense(5, activation= \"relu\"))\n",
    "model.add(tf.keras.layers.Dense(5, activation= \"relu\"))\n",
    "model.add(tf.keras.layers.Dense(5, activation= \"relu\"))\n",
    "model.add(tf.keras.layers.Dense(1, activation='sigmoid'))\n",
    "\n",
    "predictions = model(np.asarray(x_train).astype('float32')).numpy()\n",
    "#tf.nn.softmax(predictions).numpy()\n",
    "loss_fn = tf.keras.losses.MeanSquaredError(name='mean_squared_error')#tf.keras.losses.MeanAbsoluteError()#tf.keras.losses.SparseCategoricalCrossentropy()\n",
    "loss_fn(y_train[:1], predictions).numpy()\n",
    "opt = SGD(lr=0.01)\n",
    "\n",
    "\n",
    "model.compile(optimizer=opt, loss=\"binary_crossentropy\", metrics=['accuracy'])"
   ]
  },
  {
   "cell_type": "code",
   "execution_count": 40,
   "id": "6f3d57f1",
   "metadata": {},
   "outputs": [
    {
     "name": "stdout",
     "output_type": "stream",
     "text": [
      "Epoch 1/100\n",
      "625/625 [==============================] - 1s 991us/step - loss: 0.6800 - accuracy: 0.5818\n",
      "Epoch 2/100\n",
      "625/625 [==============================] - 1s 969us/step - loss: 0.3240 - accuracy: 0.9984\n",
      "Epoch 3/100\n",
      "625/625 [==============================] - 1s 946us/step - loss: 0.1276 - accuracy: 1.0000\n",
      "Epoch 4/100\n",
      "625/625 [==============================] - 1s 947us/step - loss: 0.0761 - accuracy: 1.0000\n",
      "Epoch 5/100\n",
      "625/625 [==============================] - 1s 940us/step - loss: 0.0545 - accuracy: 1.0000\n",
      "Epoch 6/100\n",
      "625/625 [==============================] - 1s 964us/step - loss: 0.0419 - accuracy: 1.0000\n",
      "Epoch 7/100\n",
      "625/625 [==============================] - 1s 951us/step - loss: 0.0338 - accuracy: 1.0000\n",
      "Epoch 8/100\n",
      "625/625 [==============================] - 1s 970us/step - loss: 0.0280 - accuracy: 1.0000\n",
      "Epoch 9/100\n",
      "625/625 [==============================] - 1s 953us/step - loss: 0.0240 - accuracy: 1.0000\n",
      "Epoch 10/100\n",
      "625/625 [==============================] - 1s 2ms/step - loss: 0.0212 - accuracy: 1.0000\n",
      "Epoch 11/100\n",
      "625/625 [==============================] - 1s 2ms/step - loss: 0.0189 - accuracy: 1.0000\n",
      "Epoch 12/100\n",
      "625/625 [==============================] - 1s 1ms/step - loss: 0.0167 - accuracy: 1.0000\n",
      "Epoch 13/100\n",
      "625/625 [==============================] - 1s 1ms/step - loss: 0.0151 - accuracy: 1.0000\n",
      "Epoch 14/100\n",
      "625/625 [==============================] - 1s 1ms/step - loss: 0.0141 - accuracy: 1.0000\n",
      "Epoch 15/100\n",
      "625/625 [==============================] - 1s 1ms/step - loss: 0.0129 - accuracy: 1.0000\n",
      "Epoch 16/100\n",
      "625/625 [==============================] - 1s 971us/step - loss: 0.0121 - accuracy: 1.0000\n",
      "Epoch 17/100\n",
      "625/625 [==============================] - 1s 966us/step - loss: 0.0111 - accuracy: 1.0000\n",
      "Epoch 18/100\n",
      "625/625 [==============================] - 1s 2ms/step - loss: 0.0105 - accuracy: 1.0000\n",
      "Epoch 19/100\n",
      "625/625 [==============================] - 1s 1ms/step - loss: 0.0099 - accuracy: 1.0000\n",
      "Epoch 20/100\n",
      "625/625 [==============================] - 1s 979us/step - loss: 0.0092 - accuracy: 1.0000\n",
      "Epoch 21/100\n",
      "625/625 [==============================] - 1s 1ms/step - loss: 0.0087 - accuracy: 1.0000\n",
      "Epoch 22/100\n",
      "625/625 [==============================] - 1s 951us/step - loss: 0.0083 - accuracy: 1.0000\n",
      "Epoch 23/100\n",
      "625/625 [==============================] - 1s 997us/step - loss: 0.0080 - accuracy: 1.0000\n",
      "Epoch 24/100\n",
      "625/625 [==============================] - 1s 992us/step - loss: 0.0074 - accuracy: 1.0000\n",
      "Epoch 25/100\n",
      "625/625 [==============================] - 1s 976us/step - loss: 0.0072 - accuracy: 1.0000\n",
      "Epoch 26/100\n",
      "625/625 [==============================] - 1s 955us/step - loss: 0.0070 - accuracy: 1.0000\n",
      "Epoch 27/100\n",
      "625/625 [==============================] - 1s 1ms/step - loss: 0.0067 - accuracy: 1.0000\n",
      "Epoch 28/100\n",
      "625/625 [==============================] - 1s 1ms/step - loss: 0.0064 - accuracy: 1.0000\n",
      "Epoch 29/100\n",
      "625/625 [==============================] - 1s 1ms/step - loss: 0.0061 - accuracy: 1.0000\n",
      "Epoch 30/100\n",
      "625/625 [==============================] - 1s 991us/step - loss: 0.0059 - accuracy: 1.0000\n",
      "Epoch 31/100\n",
      "625/625 [==============================] - 1s 950us/step - loss: 0.0057 - accuracy: 1.0000\n",
      "Epoch 32/100\n",
      "625/625 [==============================] - 1s 984us/step - loss: 0.0055 - accuracy: 1.0000\n",
      "Epoch 33/100\n",
      "625/625 [==============================] - 1s 960us/step - loss: 0.0054 - accuracy: 1.0000\n",
      "Epoch 34/100\n",
      "625/625 [==============================] - 1s 949us/step - loss: 0.0052 - accuracy: 1.0000\n",
      "Epoch 35/100\n",
      "625/625 [==============================] - 1s 977us/step - loss: 0.0050 - accuracy: 1.0000\n",
      "Epoch 36/100\n",
      "625/625 [==============================] - 1s 950us/step - loss: 0.0049 - accuracy: 1.0000\n",
      "Epoch 37/100\n",
      "625/625 [==============================] - 1s 948us/step - loss: 0.0047 - accuracy: 1.0000\n",
      "Epoch 38/100\n",
      "625/625 [==============================] - 1s 948us/step - loss: 0.0045 - accuracy: 1.0000\n",
      "Epoch 39/100\n",
      "625/625 [==============================] - 1s 954us/step - loss: 0.0045 - accuracy: 1.0000\n",
      "Epoch 40/100\n",
      "625/625 [==============================] - 1s 946us/step - loss: 0.0044 - accuracy: 1.0000\n",
      "Epoch 41/100\n",
      "625/625 [==============================] - 1s 968us/step - loss: 0.0043 - accuracy: 1.0000\n",
      "Epoch 42/100\n",
      "625/625 [==============================] - 1s 953us/step - loss: 0.0041 - accuracy: 1.0000\n",
      "Epoch 43/100\n",
      "625/625 [==============================] - 1s 982us/step - loss: 0.0040 - accuracy: 1.0000\n",
      "Epoch 44/100\n",
      "625/625 [==============================] - 1s 980us/step - loss: 0.0039 - accuracy: 1.0000\n",
      "Epoch 45/100\n",
      "625/625 [==============================] - 1s 960us/step - loss: 0.0038 - accuracy: 1.0000\n",
      "Epoch 46/100\n",
      "625/625 [==============================] - 1s 951us/step - loss: 0.0037 - accuracy: 1.0000\n",
      "Epoch 47/100\n",
      "625/625 [==============================] - 1s 956us/step - loss: 0.0036 - accuracy: 1.0000\n",
      "Epoch 48/100\n",
      "625/625 [==============================] - 1s 972us/step - loss: 0.0036 - accuracy: 1.0000\n",
      "Epoch 49/100\n",
      "625/625 [==============================] - 1s 949us/step - loss: 0.0035 - accuracy: 1.0000\n",
      "Epoch 50/100\n",
      "625/625 [==============================] - 1s 949us/step - loss: 0.0035 - accuracy: 1.0000\n",
      "Epoch 51/100\n",
      "625/625 [==============================] - 1s 962us/step - loss: 0.0033 - accuracy: 1.0000\n",
      "Epoch 52/100\n",
      "625/625 [==============================] - 1s 966us/step - loss: 0.0033 - accuracy: 1.0000\n",
      "Epoch 53/100\n",
      "625/625 [==============================] - 1s 961us/step - loss: 0.0032 - accuracy: 1.0000\n",
      "Epoch 54/100\n",
      "625/625 [==============================] - 1s 944us/step - loss: 0.0031 - accuracy: 1.0000\n",
      "Epoch 55/100\n",
      "625/625 [==============================] - 1s 952us/step - loss: 0.0031 - accuracy: 1.0000\n",
      "Epoch 56/100\n",
      "625/625 [==============================] - 1s 964us/step - loss: 0.0031 - accuracy: 1.0000\n",
      "Epoch 57/100\n",
      "625/625 [==============================] - 1s 973us/step - loss: 0.0030 - accuracy: 1.0000\n",
      "Epoch 58/100\n",
      "625/625 [==============================] - 1s 992us/step - loss: 0.0029 - accuracy: 1.0000\n",
      "Epoch 59/100\n",
      "625/625 [==============================] - 1s 986us/step - loss: 0.0029 - accuracy: 1.0000\n",
      "Epoch 60/100\n",
      "625/625 [==============================] - 1s 953us/step - loss: 0.0028 - accuracy: 1.0000\n",
      "Epoch 61/100\n",
      "625/625 [==============================] - 1s 962us/step - loss: 0.0028 - accuracy: 1.0000\n",
      "Epoch 62/100\n",
      "625/625 [==============================] - 1s 956us/step - loss: 0.0027 - accuracy: 1.0000\n",
      "Epoch 63/100\n",
      "625/625 [==============================] - 1s 962us/step - loss: 0.0027 - accuracy: 1.0000\n",
      "Epoch 64/100\n",
      "625/625 [==============================] - 1s 963us/step - loss: 0.0026 - accuracy: 1.0000\n",
      "Epoch 65/100\n",
      "625/625 [==============================] - 1s 951us/step - loss: 0.0026 - accuracy: 1.0000\n",
      "Epoch 66/100\n",
      "625/625 [==============================] - 1s 947us/step - loss: 0.0025 - accuracy: 1.0000\n",
      "Epoch 67/100\n",
      "625/625 [==============================] - 1s 963us/step - loss: 0.0025 - accuracy: 1.0000\n",
      "Epoch 68/100\n",
      "625/625 [==============================] - 1s 973us/step - loss: 0.0025 - accuracy: 1.0000\n",
      "Epoch 69/100\n",
      "625/625 [==============================] - 1s 965us/step - loss: 0.0024 - accuracy: 1.0000\n",
      "Epoch 70/100\n",
      "625/625 [==============================] - 1s 947us/step - loss: 0.0024 - accuracy: 1.0000\n",
      "Epoch 71/100\n",
      "625/625 [==============================] - 1s 947us/step - loss: 0.0024 - accuracy: 1.0000\n",
      "Epoch 72/100\n",
      "625/625 [==============================] - 1s 954us/step - loss: 0.0023 - accuracy: 1.0000\n",
      "Epoch 73/100\n",
      "625/625 [==============================] - 1s 946us/step - loss: 0.0023 - accuracy: 1.0000\n",
      "Epoch 74/100\n",
      "625/625 [==============================] - 1s 945us/step - loss: 0.0023 - accuracy: 1.0000\n",
      "Epoch 75/100\n",
      "625/625 [==============================] - 1s 943us/step - loss: 0.0022 - accuracy: 1.0000\n",
      "Epoch 76/100\n",
      "625/625 [==============================] - 1s 979us/step - loss: 0.0022 - accuracy: 1.0000\n",
      "Epoch 77/100\n",
      "625/625 [==============================] - 1s 951us/step - loss: 0.0022 - accuracy: 1.0000\n",
      "Epoch 78/100\n",
      "625/625 [==============================] - 1s 1ms/step - loss: 0.0022 - accuracy: 1.0000\n",
      "Epoch 79/100\n",
      "625/625 [==============================] - 1s 983us/step - loss: 0.0021 - accuracy: 1.0000\n",
      "Epoch 80/100\n"
     ]
    },
    {
     "name": "stdout",
     "output_type": "stream",
     "text": [
      "625/625 [==============================] - 1s 943us/step - loss: 0.0021 - accuracy: 1.0000\n",
      "Epoch 81/100\n",
      "625/625 [==============================] - 1s 936us/step - loss: 0.0021 - accuracy: 1.0000\n",
      "Epoch 82/100\n",
      "625/625 [==============================] - 1s 940us/step - loss: 0.0020 - accuracy: 1.0000\n",
      "Epoch 83/100\n",
      "625/625 [==============================] - 1s 955us/step - loss: 0.0020 - accuracy: 1.0000\n",
      "Epoch 84/100\n",
      "625/625 [==============================] - 1s 945us/step - loss: 0.0020 - accuracy: 1.0000\n",
      "Epoch 85/100\n",
      "625/625 [==============================] - 1s 939us/step - loss: 0.0020 - accuracy: 1.0000\n",
      "Epoch 86/100\n",
      "625/625 [==============================] - 1s 947us/step - loss: 0.0019 - accuracy: 1.0000\n",
      "Epoch 87/100\n",
      "625/625 [==============================] - 1s 942us/step - loss: 0.0019 - accuracy: 1.0000\n",
      "Epoch 88/100\n",
      "625/625 [==============================] - 1s 945us/step - loss: 0.0019 - accuracy: 1.0000\n",
      "Epoch 89/100\n",
      "625/625 [==============================] - 1s 956us/step - loss: 0.0019 - accuracy: 1.0000\n",
      "Epoch 90/100\n",
      "625/625 [==============================] - 1s 946us/step - loss: 0.0019 - accuracy: 1.0000\n",
      "Epoch 91/100\n",
      "625/625 [==============================] - 1s 945us/step - loss: 0.0018 - accuracy: 1.0000\n",
      "Epoch 92/100\n",
      "625/625 [==============================] - 1s 963us/step - loss: 0.0018 - accuracy: 1.0000\n",
      "Epoch 93/100\n",
      "625/625 [==============================] - 1s 953us/step - loss: 0.0018 - accuracy: 1.0000\n",
      "Epoch 94/100\n",
      "625/625 [==============================] - 1s 964us/step - loss: 0.0018 - accuracy: 1.0000\n",
      "Epoch 95/100\n",
      "625/625 [==============================] - 1s 1ms/step - loss: 0.0017 - accuracy: 1.0000\n",
      "Epoch 96/100\n",
      "625/625 [==============================] - 1s 1ms/step - loss: 0.0017 - accuracy: 1.0000\n",
      "Epoch 97/100\n",
      "625/625 [==============================] - 1s 1ms/step - loss: 0.0017 - accuracy: 1.0000\n",
      "Epoch 98/100\n",
      "625/625 [==============================] - 1s 993us/step - loss: 0.0017 - accuracy: 1.0000\n",
      "Epoch 99/100\n",
      "625/625 [==============================] - 1s 987us/step - loss: 0.0017 - accuracy: 1.0000\n",
      "Epoch 100/100\n",
      "625/625 [==============================] - 1s 976us/step - loss: 0.0017 - accuracy: 1.0000\n"
     ]
    }
   ],
   "source": [
    "history = model.fit(x_train, y_train, epochs=100)"
   ]
  },
  {
   "cell_type": "code",
   "execution_count": 33,
   "id": "e2cc5a9f",
   "metadata": {},
   "outputs": [
    {
     "name": "stdout",
     "output_type": "stream",
     "text": [
      "Train: 0.505, Test: 0.496\n"
     ]
    },
    {
     "data": {
      "image/png": "[encoded data removed]",
      "text/plain": [
       "<Figure size 432x288 with 2 Axes>"
      ]
     },
     "metadata": {
      "needs_background": "light"
     },
     "output_type": "display_data"
    }
   ],
   "source": [
    "_, train_acc = model.evaluate(x_train, y_train, verbose=0)\n",
    "_, test_acc = model.evaluate(x_test, y_test, verbose=0)\n",
    "print('Train: %.3f, Test: %.3f' % (train_acc, test_acc))\n",
    "# plot loss during training\n",
    "pyplot.subplot(211)\n",
    "pyplot.title('Loss')\n",
    "pyplot.plot(history.history['loss'], label='train')\n",
    "pyplot.legend()\n",
    "# plot accuracy during training\n",
    "pyplot.subplot(212)\n",
    "pyplot.title('Accuracy')\n",
    "pyplot.plot(history.history['accuracy'], label='train')\n",
    "pyplot.legend()\n",
    "pyplot.show()"
   ]
  },
  {
   "cell_type": "code",
   "execution_count": null,
   "id": "5041fee6",
   "metadata": {},
   "outputs": [],
   "source": [
    "with open('ANDverificationmodel.pkl', 'wb') as f:\n",
    "    pickle.dump({'weights': model.get_weights(), 'history': history.history}, f)\n"
   ]
  },
  {
   "cell_type": "code",
   "execution_count": 83,
   "id": "c1f9e421",
   "metadata": {},
   "outputs": [],
   "source": [
    "# load the weights and history from the file and evaluate the model\n",
    "with open('ANDverificationmodel.pkl', 'rb') as f:\n",
    "    data = pickle.load(f)\n",
    "model.set_weights(data['weights'])"
   ]
  },
  {
   "cell_type": "code",
   "execution_count": null,
   "id": "dd2da3c6",
   "metadata": {},
   "outputs": [],
   "source": []
  },
  {
   "cell_type": "code",
   "execution_count": 34,
   "id": "6e672079",
   "metadata": {},
   "outputs": [
    {
     "name": "stdout",
     "output_type": "stream",
     "text": [
      "313/313 [==============================] - 0s 1ms/step - loss: 0.6933 - accuracy: 0.4959\n",
      "Test loss: 0.6932690739631653\n",
      "Test accuracy: 0.4959495961666107\n"
     ]
    }
   ],
   "source": [
    "score = model.evaluate(x_test, y_test)\n",
    "print('Test loss:', score[0])\n",
    "print('Test accuracy:', score[1])"
   ]
  },
  {
   "cell_type": "code",
   "execution_count": 35,
   "id": "db511f68",
   "metadata": {},
   "outputs": [
    {
     "name": "stdout",
     "output_type": "stream",
     "text": [
      "313/313 [==============================] - 0s 1ms/step - loss: 0.6933 - accuracy: 0.4959\n",
      "Accuracy: 0.4959495961666107\n"
     ]
    }
   ],
   "source": [
    "# evaluate the model on the test data\n",
    "loss, accuracy = model.evaluate(x_test, y_test, verbose=1)\n",
    "\n",
    "# print the accuracy\n",
    "print('Accuracy:', accuracy)\n",
    "\n",
    "# create a chart of the model's predictions\n",
    "predictions = model.predict(x_test)"
   ]
  },
  {
   "cell_type": "code",
   "execution_count": 36,
   "id": "b6200686",
   "metadata": {},
   "outputs": [
    {
     "name": "stdout",
     "output_type": "stream",
     "text": [
      "Class 0:\n",
      "  Total: 5040\n",
      "  Correct: 0\n",
      "  True 0: 0\n",
      "  False 1: 5040\n",
      "  Accuracy: 0.0\n",
      "Class 1:\n",
      "  Total: 4959\n",
      "  Correct: 4959\n",
      "  True 1: 4959\n",
      "  False 0: 0\n",
      "  Accuracy: 1.0\n"
     ]
    }
   ],
   "source": [
    "y_pred = model.predict(x_test)\n",
    "y_pred_classes = np.round(y_pred).flatten()\n",
    "\n",
    "# compute class-wise accuracy and confusion matrix\n",
    "class_0_correct = 0\n",
    "class_0_total = 0\n",
    "class_0_true_0 = 0\n",
    "class_0_false_1 = 0\n",
    "class_1_correct = 0\n",
    "class_1_total = 0\n",
    "class_1_true_1 = 0\n",
    "class_1_false_0 = 0\n",
    "for i in range(len(y_test)):\n",
    "    true_class = y_test[i]\n",
    "    pred_class = y_pred_classes[i]\n",
    "    if true_class == 0:\n",
    "        class_0_total += 1\n",
    "        if pred_class == 0:\n",
    "            class_0_correct += 1\n",
    "            class_0_true_0 += 1\n",
    "        else:\n",
    "            class_0_false_1 += 1\n",
    "    elif true_class == 1:\n",
    "        class_1_total += 1\n",
    "        if pred_class == 1:\n",
    "            class_1_correct += 1\n",
    "            class_1_true_1 += 1\n",
    "        else:\n",
    "            class_1_false_0 += 1\n",
    "\n",
    "class_0_accuracy = class_0_correct / class_0_total\n",
    "class_1_accuracy = class_1_correct / class_1_total\n",
    "\n",
    "print(\"Class 0:\")\n",
    "print(f\"  Total: {class_0_total}\")\n",
    "print(f\"  Correct: {class_0_correct}\")\n",
    "print(f\"  True 0: {class_0_true_0}\")\n",
    "print(f\"  False 1: {class_0_false_1}\")\n",
    "print(f\"  Accuracy: {class_0_accuracy}\")\n",
    "print(\"Class 1:\")\n",
    "print(f\"  Total: {class_1_total}\")\n",
    "print(f\"  Correct: {class_1_correct}\")\n",
    "print(f\"  True 1: {class_1_true_1}\")\n",
    "print(f\"  False 0: {class_1_false_0}\")\n",
    "print(f\"  Accuracy: {class_1_accuracy}\")"
   ]
  },
  {
   "cell_type": "code",
   "execution_count": null,
   "id": "15dd5262",
   "metadata": {},
   "outputs": [],
   "source": []
  },
  {
   "cell_type": "code",
   "execution_count": null,
   "id": "64412bd9",
   "metadata": {},
   "outputs": [],
   "source": []
  }
 ],
 "metadata": {
  "kernelspec": {
   "display_name": "Python 3",
   "language": "python",
   "name": "python3"
  },
  "language_info": {
   "codemirror_mode": {
    "name": "ipython",
    "version": 3
   },
   "file_extension": ".py",
   "mimetype": "text/x-python",
   "name": "python",
   "nbconvert_exporter": "python",
   "pygments_lexer": "ipython3",
   "version": "3.8.8"
  }
 },
 "nbformat": 4,
 "nbformat_minor": 5
}
