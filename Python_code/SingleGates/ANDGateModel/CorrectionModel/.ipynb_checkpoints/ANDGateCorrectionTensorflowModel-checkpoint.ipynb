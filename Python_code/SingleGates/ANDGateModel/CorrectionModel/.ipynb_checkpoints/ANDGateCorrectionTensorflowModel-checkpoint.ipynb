{
 "cells": [
  {
   "cell_type": "code",
   "execution_count": 4,
   "id": "2d66143e",
   "metadata": {},
   "outputs": [],
   "source": [
    "import tensorflow as tf\n",
    "import pandas as pd\n",
    "import numpy as np\n",
    "from sklearn.model_selection import train_test_split\n",
    "import pickle\n",
    "from matplotlib import pyplot\n",
    "from keras.optimizers import SGD\n",
    "np.set_printoptions(threshold=np.sys.maxsize)"
   ]
  },
  {
   "cell_type": "code",
   "execution_count": 5,
   "id": "b1c2c047",
   "metadata": {},
   "outputs": [
    {
     "name": "stdout",
     "output_type": "stream",
     "text": [
      "(20000, 2) (9999, 2) (20000,) (9999,)\n"
     ]
    }
   ],
   "source": [
    "#define the data\n",
    "FullData = pd.read_csv(\"ANDGate_Correction_Data.csv\")[0:29999]\n",
    "\n",
    "x, y = FullData.values[:, 2:-1], FullData.values[:, -1]\n",
    "x_train, x_test, y_train, y_test = train_test_split(x, y, test_size=0.3333)\n",
    "print(x_train.shape, x_test.shape, y_train.shape, y_test.shape)\n",
    "n_features = x_train.shape[1]"
   ]
  },
  {
   "cell_type": "code",
   "execution_count": 6,
   "id": "821ae94d",
   "metadata": {},
   "outputs": [],
   "source": [
    "# define the model\n",
    "model = tf.keras.Sequential()\n",
    "model.add(tf.keras.layers.Dense(100, input_shape=(n_features,), activation= \"relu\"))\n",
    "model.add(tf.keras.layers.Dense(80, activation= \"relu\"))\n",
    "model.add(tf.keras.layers.Dense(80, activation= \"relu\"))\n",
    "model.add(tf.keras.layers.Dense(80, activation= \"relu\"))\n",
    "model.add(tf.keras.layers.Dense(30, activation= \"relu\"))\n",
    "model.add(tf.keras.layers.Dense(30, activation= \"relu\"))\n",
    "model.add(tf.keras.layers.Dense(30, activation= \"relu\"))\n",
    "model.add(tf.keras.layers.Dense(30, activation= \"relu\"))\n",
    "model.add(tf.keras.layers.Dense(10, activation= \"relu\"))\n",
    "model.add(tf.keras.layers.Dense(10, activation= \"relu\"))\n",
    "model.add(tf.keras.layers.Dense(10, activation= \"relu\"))\n",
    "model.add(tf.keras.layers.Dense(5, activation= \"relu\"))\n",
    "model.add(tf.keras.layers.Dense(5, activation= \"relu\"))\n",
    "model.add(tf.keras.layers.Dense(5, activation= \"relu\"))\n",
    "model.add(tf.keras.layers.Dense(5, activation= \"relu\"))\n",
    "model.add(tf.keras.layers.Dense(5, activation= \"relu\"))\n",
    "model.add(tf.keras.layers.Dense(1, activation='sigmoid'))\n",
    "\n",
    "predictions = model(np.asarray(x_train).astype('float32')).numpy()\n",
    "#tf.nn.softmax(predictions).numpy()\n",
    "loss_fn = tf.keras.losses.MeanSquaredError(name='mean_squared_error')#tf.keras.losses.MeanAbsoluteError()#tf.keras.losses.SparseCategoricalCrossentropy()\n",
    "loss_fn(y_train[:1], predictions).numpy()\n",
    "opt = SGD(lr=0.01)\n",
    "\n",
    "\n",
    "model.compile(optimizer=opt, loss=\"binary_crossentropy\", metrics=['accuracy'])"
   ]
  },
  {
   "cell_type": "code",
   "execution_count": 7,
   "id": "94a900d3",
   "metadata": {},
   "outputs": [
    {
     "name": "stdout",
     "output_type": "stream",
     "text": [
      "Epoch 1/5000\n",
      "625/625 [==============================] - 1s 957us/step - loss: 0.6282 - accuracy: 0.7537\n",
      "Epoch 2/5000\n",
      "625/625 [==============================] - 1s 947us/step - loss: 0.5643 - accuracy: 0.7494\n",
      "Epoch 3/5000\n",
      "625/625 [==============================] - 1s 927us/step - loss: 0.5593 - accuracy: 0.7528\n",
      "Epoch 4/5000\n",
      "625/625 [==============================] - 1s 931us/step - loss: 0.5576 - accuracy: 0.7543\n",
      "Epoch 5/5000\n",
      "625/625 [==============================] - 1s 950us/step - loss: 0.5610 - accuracy: 0.7512\n",
      "Epoch 6/5000\n",
      "625/625 [==============================] - 1s 963us/step - loss: 0.5636 - accuracy: 0.7488\n",
      "Epoch 7/5000\n",
      "625/625 [==============================] - 1s 936us/step - loss: 0.5623 - accuracy: 0.7500\n",
      "Epoch 8/5000\n",
      "625/625 [==============================] - 1s 924us/step - loss: 0.5638 - accuracy: 0.7486\n",
      "Epoch 9/5000\n",
      "625/625 [==============================] - 1s 943us/step - loss: 0.5612 - accuracy: 0.7510\n",
      "Epoch 10/5000\n",
      "625/625 [==============================] - 1s 949us/step - loss: 0.5662 - accuracy: 0.7465\n",
      "Epoch 11/5000\n",
      "625/625 [==============================] - 1s 935us/step - loss: 0.5596 - accuracy: 0.7523\n",
      "Epoch 12/5000\n",
      "625/625 [==============================] - 1s 952us/step - loss: 0.5621 - accuracy: 0.7500\n",
      "Epoch 13/5000\n",
      "625/625 [==============================] - 1s 938us/step - loss: 0.5580 - accuracy: 0.7537\n",
      "Epoch 14/5000\n",
      "625/625 [==============================] - 1s 940us/step - loss: 0.5613 - accuracy: 0.7507\n",
      "Epoch 15/5000\n",
      "625/625 [==============================] - 1s 936us/step - loss: 0.5597 - accuracy: 0.7520\n",
      "Epoch 16/5000\n",
      "625/625 [==============================] - 1s 948us/step - loss: 0.5610 - accuracy: 0.7507\n",
      "Epoch 17/5000\n",
      "625/625 [==============================] - 1s 960us/step - loss: 0.5620 - accuracy: 0.7497\n",
      "Epoch 18/5000\n",
      "625/625 [==============================] - 1s 947us/step - loss: 0.5625 - accuracy: 0.7490\n",
      "Epoch 19/5000\n",
      "625/625 [==============================] - 1s 939us/step - loss: 0.5613 - accuracy: 0.7498\n",
      "Epoch 20/5000\n",
      "625/625 [==============================] - 1s 940us/step - loss: 0.5568 - accuracy: 0.7533\n",
      "Epoch 21/5000\n",
      "625/625 [==============================] - 1s 930us/step - loss: 0.5570 - accuracy: 0.7519\n",
      "Epoch 22/5000\n",
      "625/625 [==============================] - 1s 1ms/step - loss: 0.5513 - accuracy: 0.7540\n",
      "Epoch 23/5000\n",
      "625/625 [==============================] - 1s 961us/step - loss: 0.5335 - accuracy: 0.7527\n",
      "Epoch 24/5000\n",
      "625/625 [==============================] - 1s 940us/step - loss: 0.2496 - accuracy: 0.8205\n",
      "Epoch 25/5000\n",
      "625/625 [==============================] - 1s 964us/step - loss: 0.0662 - accuracy: 1.0000\n",
      "Epoch 26/5000\n",
      "625/625 [==============================] - 1s 937us/step - loss: 0.0277 - accuracy: 1.0000\n",
      "Epoch 27/5000\n",
      "625/625 [==============================] - 1s 959us/step - loss: 0.0153 - accuracy: 1.0000\n",
      "Epoch 28/5000\n",
      "625/625 [==============================] - 1s 943us/step - loss: 0.0099 - accuracy: 1.0000\n",
      "Epoch 29/5000\n",
      "625/625 [==============================] - 1s 945us/step - loss: 0.0073 - accuracy: 1.0000\n",
      "Epoch 30/5000\n",
      "625/625 [==============================] - 1s 933us/step - loss: 0.0054 - accuracy: 1.0000\n",
      "Epoch 31/5000\n",
      "625/625 [==============================] - 1s 942us/step - loss: 0.0044 - accuracy: 1.0000\n",
      "Epoch 32/5000\n",
      "625/625 [==============================] - 1s 965us/step - loss: 0.0037 - accuracy: 1.0000\n",
      "Epoch 33/5000\n",
      "625/625 [==============================] - 1s 1ms/step - loss: 0.0031 - accuracy: 1.0000\n",
      "Epoch 34/5000\n",
      "625/625 [==============================] - 1s 966us/step - loss: 0.0026 - accuracy: 1.0000\n",
      "Epoch 35/5000\n",
      "625/625 [==============================] - 1s 976us/step - loss: 0.0023 - accuracy: 1.0000\n",
      "Epoch 36/5000\n",
      "625/625 [==============================] - 1s 1ms/step - loss: 0.0021 - accuracy: 1.0000\n",
      "Epoch 37/5000\n",
      "625/625 [==============================] - 1s 926us/step - loss: 0.0018 - accuracy: 1.0000\n",
      "Epoch 38/5000\n",
      "625/625 [==============================] - 1s 952us/step - loss: 0.0017 - accuracy: 1.0000\n",
      "Epoch 39/5000\n",
      "625/625 [==============================] - 1s 1ms/step - loss: 0.0015 - accuracy: 1.0000\n",
      "Epoch 40/5000\n",
      "625/625 [==============================] - 1s 1ms/step - loss: 0.0014 - accuracy: 1.0000\n",
      "Epoch 41/5000\n",
      "625/625 [==============================] - 1s 935us/step - loss: 0.0013 - accuracy: 1.0000\n",
      "Epoch 42/5000\n",
      "625/625 [==============================] - 1s 946us/step - loss: 0.0012 - accuracy: 1.0000\n",
      "Epoch 43/5000\n",
      "625/625 [==============================] - 1s 946us/step - loss: 0.0011 - accuracy: 1.0000\n",
      "Epoch 44/5000\n",
      "625/625 [==============================] - 1s 937us/step - loss: 0.0011 - accuracy: 1.0000\n",
      "Epoch 45/5000\n",
      "625/625 [==============================] - 1s 939us/step - loss: 9.9552e-04 - accuracy: 1.0000\n",
      "Epoch 46/5000\n",
      "625/625 [==============================] - 1s 933us/step - loss: 9.1114e-04 - accuracy: 1.0000\n",
      "Epoch 47/5000\n",
      "625/625 [==============================] - 1s 997us/step - loss: 8.8406e-04 - accuracy: 1.0000\n",
      "Epoch 48/5000\n",
      "625/625 [==============================] - 1s 947us/step - loss: 8.1186e-04 - accuracy: 1.0000\n",
      "Epoch 49/5000\n",
      "625/625 [==============================] - 1s 947us/step - loss: 7.6548e-04 - accuracy: 1.0000\n",
      "Epoch 50/5000\n",
      "625/625 [==============================] - 1s 984us/step - loss: 7.3783e-04 - accuracy: 1.0000\n",
      "Epoch 51/5000\n",
      "625/625 [==============================] - 1s 975us/step - loss: 7.0079e-04 - accuracy: 1.0000\n",
      "Epoch 52/5000\n",
      "625/625 [==============================] - 1s 957us/step - loss: 6.7497e-04 - accuracy: 1.0000\n",
      "Epoch 53/5000\n",
      "625/625 [==============================] - 1s 950us/step - loss: 6.3337e-04 - accuracy: 1.0000\n",
      "Epoch 54/5000\n",
      "625/625 [==============================] - 1s 959us/step - loss: 6.0320e-04 - accuracy: 1.0000\n",
      "Epoch 55/5000\n",
      "  1/625 [..............................] - ETA: 0s - loss: 3.7700e-04 - accuracy: 1.0000"
     ]
    },
    {
     "ename": "KeyboardInterrupt",
     "evalue": "",
     "output_type": "error",
     "traceback": [
      "\u001b[0;31m---------------------------------------------------------------------------\u001b[0m",
      "\u001b[0;31mKeyboardInterrupt\u001b[0m                         Traceback (most recent call last)",
      "\u001b[0;32m<ipython-input-7-1092d335a1d9>\u001b[0m in \u001b[0;36m<module>\u001b[0;34m\u001b[0m\n\u001b[0;32m----> 1\u001b[0;31m \u001b[0mhistory\u001b[0m \u001b[0;34m=\u001b[0m \u001b[0mmodel\u001b[0m\u001b[0;34m.\u001b[0m\u001b[0mfit\u001b[0m\u001b[0;34m(\u001b[0m\u001b[0mx_train\u001b[0m\u001b[0;34m,\u001b[0m \u001b[0my_train\u001b[0m\u001b[0;34m,\u001b[0m \u001b[0mepochs\u001b[0m\u001b[0;34m=\u001b[0m\u001b[0;36m5000\u001b[0m\u001b[0;34m)\u001b[0m\u001b[0;34m\u001b[0m\u001b[0;34m\u001b[0m\u001b[0m\n\u001b[0m",
      "\u001b[0;32m~/opt/anaconda3/lib/python3.8/site-packages/tensorflow/python/keras/engine/training.py\u001b[0m in \u001b[0;36mfit\u001b[0;34m(self, x, y, batch_size, epochs, verbose, callbacks, validation_split, validation_data, shuffle, class_weight, sample_weight, initial_epoch, steps_per_epoch, validation_steps, validation_batch_size, validation_freq, max_queue_size, workers, use_multiprocessing)\u001b[0m\n\u001b[1;32m   1098\u001b[0m                 _r=1):\n\u001b[1;32m   1099\u001b[0m               \u001b[0mcallbacks\u001b[0m\u001b[0;34m.\u001b[0m\u001b[0mon_train_batch_begin\u001b[0m\u001b[0;34m(\u001b[0m\u001b[0mstep\u001b[0m\u001b[0;34m)\u001b[0m\u001b[0;34m\u001b[0m\u001b[0;34m\u001b[0m\u001b[0m\n\u001b[0;32m-> 1100\u001b[0;31m               \u001b[0mtmp_logs\u001b[0m \u001b[0;34m=\u001b[0m \u001b[0mself\u001b[0m\u001b[0;34m.\u001b[0m\u001b[0mtrain_function\u001b[0m\u001b[0;34m(\u001b[0m\u001b[0miterator\u001b[0m\u001b[0;34m)\u001b[0m\u001b[0;34m\u001b[0m\u001b[0;34m\u001b[0m\u001b[0m\n\u001b[0m\u001b[1;32m   1101\u001b[0m               \u001b[0;32mif\u001b[0m \u001b[0mdata_handler\u001b[0m\u001b[0;34m.\u001b[0m\u001b[0mshould_sync\u001b[0m\u001b[0;34m:\u001b[0m\u001b[0;34m\u001b[0m\u001b[0;34m\u001b[0m\u001b[0m\n\u001b[1;32m   1102\u001b[0m                 \u001b[0mcontext\u001b[0m\u001b[0;34m.\u001b[0m\u001b[0masync_wait\u001b[0m\u001b[0;34m(\u001b[0m\u001b[0;34m)\u001b[0m\u001b[0;34m\u001b[0m\u001b[0;34m\u001b[0m\u001b[0m\n",
      "\u001b[0;32m~/opt/anaconda3/lib/python3.8/site-packages/tensorflow/python/eager/def_function.py\u001b[0m in \u001b[0;36m__call__\u001b[0;34m(self, *args, **kwds)\u001b[0m\n\u001b[1;32m    836\u001b[0m     \u001b[0;32mif\u001b[0m \u001b[0mcontext\u001b[0m\u001b[0;34m.\u001b[0m\u001b[0mexecuting_eagerly\u001b[0m\u001b[0;34m(\u001b[0m\u001b[0;34m)\u001b[0m\u001b[0;34m:\u001b[0m\u001b[0;34m\u001b[0m\u001b[0;34m\u001b[0m\u001b[0m\n\u001b[1;32m    837\u001b[0m       \u001b[0;32mif\u001b[0m \u001b[0mwithout_tracing\u001b[0m\u001b[0;34m:\u001b[0m\u001b[0;34m\u001b[0m\u001b[0;34m\u001b[0m\u001b[0m\n\u001b[0;32m--> 838\u001b[0;31m         _frequent_tracing_detector.called_without_tracing(\n\u001b[0m\u001b[1;32m    839\u001b[0m             self._key_for_call_stats)\n\u001b[1;32m    840\u001b[0m       \u001b[0;32melse\u001b[0m\u001b[0;34m:\u001b[0m\u001b[0;34m\u001b[0m\u001b[0;34m\u001b[0m\u001b[0m\n",
      "\u001b[0;32m~/opt/anaconda3/lib/python3.8/site-packages/tensorflow/python/eager/def_function.py\u001b[0m in \u001b[0;36mcalled_without_tracing\u001b[0;34m(self, key)\u001b[0m\n\u001b[1;32m    103\u001b[0m   \u001b[0;32mdef\u001b[0m \u001b[0mcalled_without_tracing\u001b[0m\u001b[0;34m(\u001b[0m\u001b[0mself\u001b[0m\u001b[0;34m,\u001b[0m \u001b[0mkey\u001b[0m\u001b[0;34m)\u001b[0m\u001b[0;34m:\u001b[0m\u001b[0;34m\u001b[0m\u001b[0;34m\u001b[0m\u001b[0m\n\u001b[1;32m    104\u001b[0m     \u001b[0;32mwith\u001b[0m \u001b[0mself\u001b[0m\u001b[0;34m.\u001b[0m\u001b[0m_lock\u001b[0m\u001b[0;34m:\u001b[0m\u001b[0;34m\u001b[0m\u001b[0;34m\u001b[0m\u001b[0m\n\u001b[0;32m--> 105\u001b[0;31m       \u001b[0mcounter\u001b[0m \u001b[0;34m=\u001b[0m \u001b[0mself\u001b[0m\u001b[0;34m.\u001b[0m\u001b[0m_get_counter\u001b[0m\u001b[0;34m(\u001b[0m\u001b[0mkey\u001b[0m\u001b[0;34m)\u001b[0m\u001b[0;34m\u001b[0m\u001b[0;34m\u001b[0m\u001b[0m\n\u001b[0m\u001b[1;32m    106\u001b[0m       \u001b[0mcounter\u001b[0m\u001b[0;34m.\u001b[0m\u001b[0mcalled_without_tracing\u001b[0m\u001b[0;34m(\u001b[0m\u001b[0;34m)\u001b[0m\u001b[0;34m\u001b[0m\u001b[0;34m\u001b[0m\u001b[0m\n\u001b[1;32m    107\u001b[0m \u001b[0;34m\u001b[0m\u001b[0m\n",
      "\u001b[0;32m~/opt/anaconda3/lib/python3.8/site-packages/tensorflow/python/eager/def_function.py\u001b[0m in \u001b[0;36m_get_counter\u001b[0;34m(self, key)\u001b[0m\n\u001b[1;32m     99\u001b[0m       self._counters[key] = _CallCounter(\n\u001b[1;32m    100\u001b[0m           FREQUENT_TRACING_WARNING_MAX_CALL_HISTORY)\n\u001b[0;32m--> 101\u001b[0;31m     \u001b[0;32mreturn\u001b[0m \u001b[0mself\u001b[0m\u001b[0;34m.\u001b[0m\u001b[0m_counters\u001b[0m\u001b[0;34m[\u001b[0m\u001b[0mkey\u001b[0m\u001b[0;34m]\u001b[0m\u001b[0;34m\u001b[0m\u001b[0;34m\u001b[0m\u001b[0m\n\u001b[0m\u001b[1;32m    102\u001b[0m \u001b[0;34m\u001b[0m\u001b[0m\n\u001b[1;32m    103\u001b[0m   \u001b[0;32mdef\u001b[0m \u001b[0mcalled_without_tracing\u001b[0m\u001b[0;34m(\u001b[0m\u001b[0mself\u001b[0m\u001b[0;34m,\u001b[0m \u001b[0mkey\u001b[0m\u001b[0;34m)\u001b[0m\u001b[0;34m:\u001b[0m\u001b[0;34m\u001b[0m\u001b[0;34m\u001b[0m\u001b[0m\n",
      "\u001b[0;32m~/opt/anaconda3/lib/python3.8/weakref.py\u001b[0m in \u001b[0;36m__getitem__\u001b[0;34m(self, key)\u001b[0m\n\u001b[1;32m    381\u001b[0m \u001b[0;34m\u001b[0m\u001b[0m\n\u001b[1;32m    382\u001b[0m     \u001b[0;32mdef\u001b[0m \u001b[0m__getitem__\u001b[0m\u001b[0;34m(\u001b[0m\u001b[0mself\u001b[0m\u001b[0;34m,\u001b[0m \u001b[0mkey\u001b[0m\u001b[0;34m)\u001b[0m\u001b[0;34m:\u001b[0m\u001b[0;34m\u001b[0m\u001b[0;34m\u001b[0m\u001b[0m\n\u001b[0;32m--> 383\u001b[0;31m         \u001b[0;32mreturn\u001b[0m \u001b[0mself\u001b[0m\u001b[0;34m.\u001b[0m\u001b[0mdata\u001b[0m\u001b[0;34m[\u001b[0m\u001b[0mref\u001b[0m\u001b[0;34m(\u001b[0m\u001b[0mkey\u001b[0m\u001b[0;34m)\u001b[0m\u001b[0;34m]\u001b[0m\u001b[0;34m\u001b[0m\u001b[0;34m\u001b[0m\u001b[0m\n\u001b[0m\u001b[1;32m    384\u001b[0m \u001b[0;34m\u001b[0m\u001b[0m\n\u001b[1;32m    385\u001b[0m     \u001b[0;32mdef\u001b[0m \u001b[0m__len__\u001b[0m\u001b[0;34m(\u001b[0m\u001b[0mself\u001b[0m\u001b[0;34m)\u001b[0m\u001b[0;34m:\u001b[0m\u001b[0;34m\u001b[0m\u001b[0;34m\u001b[0m\u001b[0m\n",
      "\u001b[0;31mKeyboardInterrupt\u001b[0m: "
     ]
    }
   ],
   "source": [
    "history = model.fit(x_train, y_train, epochs=100)"
   ]
  },
  {
   "cell_type": "code",
   "execution_count": null,
   "id": "f11f398b",
   "metadata": {},
   "outputs": [],
   "source": [
    "_, train_acc = model.evaluate(x_train, y_train, verbose=0)\n",
    "_, test_acc = model.evaluate(x_test, y_test, verbose=0)\n",
    "print('Train: %.3f, Test: %.3f' % (train_acc, test_acc))\n",
    "# plot loss during training\n",
    "pyplot.subplot(211)\n",
    "pyplot.title('Loss')\n",
    "pyplot.plot(history.history['loss'], label='train')\n",
    "pyplot.legend()\n",
    "# plot accuracy during training\n",
    "pyplot.subplot(212)\n",
    "pyplot.title('Accuracy')\n",
    "pyplot.plot(history.history['accuracy'], label='train')\n",
    "pyplot.legend()\n",
    "pyplot.show()"
   ]
  },
  {
   "cell_type": "code",
   "execution_count": 8,
   "id": "6fbf67f6",
   "metadata": {},
   "outputs": [],
   "source": [
    "with open('ANDCorrectionmodel.pkl', 'wb') as f:\n",
    "    pickle.dump({'weights': model.get_weights(), 'history': history.history}, f)"
   ]
  },
  {
   "cell_type": "code",
   "execution_count": 4,
   "id": "f858affa",
   "metadata": {},
   "outputs": [],
   "source": [
    "# load the weights and history from the file and evaluate the model\n",
    "with open('ANDCorrectionmodel.pkl', 'rb') as f:\n",
    "    data = pickle.load(f)\n",
    "model.set_weights(data['weights'])"
   ]
  },
  {
   "cell_type": "code",
   "execution_count": null,
   "id": "79d14c9c",
   "metadata": {},
   "outputs": [],
   "source": []
  },
  {
   "cell_type": "code",
   "execution_count": 5,
   "id": "cb00a5f4",
   "metadata": {},
   "outputs": [
    {
     "name": "stdout",
     "output_type": "stream",
     "text": [
      "313/313 [==============================] - 1s 718us/step - loss: 0.0625 - accuracy: 1.0000\n",
      "Test loss: 0.06259310245513916\n",
      "Test accuracy: 1.0\n"
     ]
    }
   ],
   "source": [
    "score = model.evaluate(x_test, y_test)\n",
    "print('Test loss:', score[0])\n",
    "print('Test accuracy:', score[1])"
   ]
  },
  {
   "cell_type": "code",
   "execution_count": 6,
   "id": "30895681",
   "metadata": {},
   "outputs": [
    {
     "name": "stdout",
     "output_type": "stream",
     "text": [
      "313/313 [==============================] - 0s 672us/step - loss: 0.0626 - accuracy: 1.0000\n",
      "Accuracy: 1.0\n"
     ]
    }
   ],
   "source": [
    "# evaluate the model on the test data\n",
    "loss, accuracy = model.evaluate(x_test, y_test, verbose=1)\n",
    "\n",
    "# print the accuracy\n",
    "print('Accuracy:', accuracy)\n",
    "\n",
    "# create a chart of the model's predictions\n",
    "predictions = model.predict(x_test)"
   ]
  },
  {
   "cell_type": "code",
   "execution_count": 7,
   "id": "50aa02fa",
   "metadata": {},
   "outputs": [
    {
     "name": "stdout",
     "output_type": "stream",
     "text": [
      "Class 0:\n",
      "  Total: 7444\n",
      "  Correct: 7444\n",
      "  True 0: 7444\n",
      "  False 1: 0\n",
      "  Accuracy: 1.0\n",
      "Class 1:\n",
      "  Total: 2555\n",
      "  Correct: 2555\n",
      "  True 1: 2555\n",
      "  False 0: 0\n",
      "  Accuracy: 1.0\n"
     ]
    }
   ],
   "source": [
    "y_pred = model.predict(x_test)\n",
    "y_pred_classes = np.round(y_pred).flatten()\n",
    "\n",
    "# compute class-wise accuracy and confusion matrix\n",
    "class_0_correct = 0\n",
    "class_0_total = 0\n",
    "class_0_true_0 = 0\n",
    "class_0_false_1 = 0\n",
    "class_1_correct = 0\n",
    "class_1_total = 0\n",
    "class_1_true_1 = 0\n",
    "class_1_false_0 = 0\n",
    "for i in range(len(y_test)):\n",
    "    true_class = y_test[i]\n",
    "    pred_class = y_pred_classes[i]\n",
    "    if true_class == 0:\n",
    "        class_0_total += 1\n",
    "        if pred_class == 0:\n",
    "            class_0_correct += 1\n",
    "            class_0_true_0 += 1\n",
    "        else:\n",
    "            class_0_false_1 += 1\n",
    "    elif true_class == 1:\n",
    "        class_1_total += 1\n",
    "        if pred_class == 1:\n",
    "            class_1_correct += 1\n",
    "            class_1_true_1 += 1\n",
    "        else:\n",
    "            class_1_false_0 += 1\n",
    "\n",
    "class_0_accuracy = class_0_correct / class_0_total\n",
    "class_1_accuracy = class_1_correct / class_1_total\n",
    "\n",
    "print(\"Class 0:\")\n",
    "print(f\"  Total: {class_0_total}\")\n",
    "print(f\"  Correct: {class_0_correct}\")\n",
    "print(f\"  True 0: {class_0_true_0}\")\n",
    "print(f\"  False 1: {class_0_false_1}\")\n",
    "print(f\"  Accuracy: {class_0_accuracy}\")\n",
    "print(\"Class 1:\")\n",
    "print(f\"  Total: {class_1_total}\")\n",
    "print(f\"  Correct: {class_1_correct}\")\n",
    "print(f\"  True 1: {class_1_true_1}\")\n",
    "print(f\"  False 0: {class_1_false_0}\")\n",
    "print(f\"  Accuracy: {class_1_accuracy}\")"
   ]
  }
 ],
 "metadata": {
  "kernelspec": {
   "display_name": "Python 3",
   "language": "python",
   "name": "python3"
  },
  "language_info": {
   "codemirror_mode": {
    "name": "ipython",
    "version": 3
   },
   "file_extension": ".py",
   "mimetype": "text/x-python",
   "name": "python",
   "nbconvert_exporter": "python",
   "pygments_lexer": "ipython3",
   "version": "3.8.8"
  }
 },
 "nbformat": 4,
 "nbformat_minor": 5
}
