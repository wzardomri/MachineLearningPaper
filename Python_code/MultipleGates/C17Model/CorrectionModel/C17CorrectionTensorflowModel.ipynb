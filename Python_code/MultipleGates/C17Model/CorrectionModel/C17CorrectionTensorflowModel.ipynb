{
 "cells": [
  {
   "cell_type": "code",
   "execution_count": 5,
   "id": "8c228284",
   "metadata": {},
   "outputs": [],
   "source": [
    "import tensorflow as tf\n",
    "import pandas as pd\n",
    "import numpy as np\n",
    "from sklearn.model_selection import train_test_split\n",
    "import pickle\n",
    "from matplotlib import pyplot\n",
    "from keras.optimizers import SGD\n",
    "np.set_printoptions(threshold=np.sys.maxsize)"
   ]
  },
  {
   "cell_type": "code",
   "execution_count": 6,
   "id": "16f9f11c",
   "metadata": {},
   "outputs": [
    {
     "name": "stdout",
     "output_type": "stream",
     "text": [
      "(46669, 5) (23331, 5) (46669, 2) (23331, 2)\n"
     ]
    }
   ],
   "source": [
    "#define the data\n",
    "FullData = pd.read_csv(\"C17_Correction_Data.csv\")\n",
    "\n",
    "x, y = FullData.values[:, 2:-2], FullData.values[:, -2:]\n",
    "x_train, x_test, inity_train, inity_test = train_test_split(x, y, test_size=0.3333)\n",
    "print(x_train.shape, x_test.shape, inity_train.shape, inity_test.shape)\n",
    "n_features = x_train.shape[1]"
   ]
  },
  {
   "cell_type": "code",
   "execution_count": 7,
   "id": "1da15872",
   "metadata": {},
   "outputs": [],
   "source": [
    "y_test = [0]*inity_test.shape[0]\n",
    "for item in range(0,len(inity_test)):\n",
    "    y_test[item] = str(inity_test[item][0]) + str(inity_test[item][1])\n",
    "    if(y_test[item] == \"00\"):\n",
    "        y_test[item] = 0;\n",
    "    elif(y_test[item] == \"01\"):\n",
    "        y_test[item] = 1;\n",
    "    elif(y_test[item] == \"10\"):\n",
    "        y_test[item] = 2;\n",
    "    elif(y_test[item] == \"11\"):\n",
    "        y_test[item] = 3;\n",
    "    else:\n",
    "        print(\"uhoh1\")\n",
    "\n",
    "y_test = np.array(y_test)\n",
    "\n",
    "y_train = [0]*inity_train.shape[0]\n",
    "for item in range(0,len(inity_train)):\n",
    "    y_train[item] = str(inity_train[item][0]) + str(inity_train[item][1])\n",
    "    if(y_train[item] == \"00\"):\n",
    "        y_train[item] = 0;\n",
    "    elif(y_train[item] == \"01\"):\n",
    "        y_train[item] = 1;\n",
    "    elif(y_train[item] == \"10\"):\n",
    "        y_train[item] = 2;\n",
    "    elif(y_train[item] == \"11\"):\n",
    "        y_train[item] = 3;\n",
    "    else:\n",
    "        print(\"uhoh2\")\n",
    "y_train = np.array(y_train)\n",
    "\n",
    "# one hot encode output variable\n",
    "y_traininput = tf.keras.utils.to_categorical(y_train)\n",
    "y_testinput = tf.keras.utils.to_categorical(y_test)"
   ]
  },
  {
   "cell_type": "code",
   "execution_count": 8,
   "id": "979d9760",
   "metadata": {},
   "outputs": [],
   "source": [
    "# define the model\n",
    "model = tf.keras.Sequential()\n",
    "model.add(tf.keras.layers.Dense(100, input_shape=(n_features,), activation= \"relu\"))\n",
    "model.add(tf.keras.layers.Dense(80, activation= \"relu\"))\n",
    "model.add(tf.keras.layers.Dense(80, activation= \"relu\"))\n",
    "model.add(tf.keras.layers.Dense(80, activation= \"relu\"))\n",
    "model.add(tf.keras.layers.Dense(30, activation= \"relu\"))\n",
    "model.add(tf.keras.layers.Dense(30, activation= \"relu\"))\n",
    "model.add(tf.keras.layers.Dense(30, activation= \"relu\"))\n",
    "model.add(tf.keras.layers.Dense(30, activation= \"relu\"))\n",
    "model.add(tf.keras.layers.Dense(10, activation= \"relu\"))\n",
    "model.add(tf.keras.layers.Dense(10, activation= \"relu\"))\n",
    "model.add(tf.keras.layers.Dense(10, activation= \"relu\"))\n",
    "model.add(tf.keras.layers.Dense(5, activation= \"relu\"))\n",
    "model.add(tf.keras.layers.Dense(5, activation= \"relu\"))\n",
    "model.add(tf.keras.layers.Dense(5, activation= \"relu\"))\n",
    "model.add(tf.keras.layers.Dense(5, activation= \"relu\"))\n",
    "model.add(tf.keras.layers.Dense(5, activation= \"relu\"))\n",
    "model.add(tf.keras.layers.Dense(4, activation='softmax'))\n",
    "\n",
    "opt = SGD(lr=0.01)\n",
    "\n",
    "model.compile(optimizer=opt, loss=\"categorical_crossentropy\", metrics=['accuracy'])"
   ]
  },
  {
   "cell_type": "code",
   "execution_count": 12,
   "id": "e31ca83e",
   "metadata": {},
   "outputs": [
    {
     "name": "stdout",
     "output_type": "stream",
     "text": [
      "1459/1459 [==============================] - 2s 985us/step - loss: 7.1704e-07 - accuracy: 1.0000\n"
     ]
    }
   ],
   "source": [
    "history = model.fit(x_train, y_traininput, epochs=1, verbose=1)#validation_data=(x_test, y_test), epochs=100, verbose=1)"
   ]
  },
  {
   "cell_type": "code",
   "execution_count": 11,
   "id": "08788392",
   "metadata": {},
   "outputs": [
    {
     "name": "stdout",
     "output_type": "stream",
     "text": [
      "Train: 1.000, Test: 1.000\n"
     ]
    },
    {
     "data": {
      "image/png": "[encoded data removed]",
      "text/plain": [
       "<Figure size 432x288 with 2 Axes>"
      ]
     },
     "metadata": {
      "needs_background": "light"
     },
     "output_type": "display_data"
    }
   ],
   "source": [
    "_, train_acc = model.evaluate(x_train, y_traininput, verbose=0)\n",
    "_, test_acc = model.evaluate(x_test, y_testinput, verbose=0)\n",
    "print('Train: %.3f, Test: %.3f' % (train_acc, test_acc))\n",
    "# plot loss during training\n",
    "pyplot.subplot(211)\n",
    "pyplot.title('Loss')\n",
    "pyplot.plot(history.history['loss'], label='train')\n",
    "pyplot.legend()\n",
    "# plot accuracy during training\n",
    "pyplot.subplot(212)\n",
    "pyplot.title('Accuracy')\n",
    "pyplot.plot(history.history['accuracy'], label='train')\n",
    "pyplot.legend()\n",
    "pyplot.show()"
   ]
  },
  {
   "cell_type": "code",
   "execution_count": 12,
   "id": "c7adea32",
   "metadata": {},
   "outputs": [],
   "source": [
    "with open('C17Correctionmodel.pkl', 'wb') as f:\n",
    "    pickle.dump({'weights': model.get_weights(), 'history': history.history}, f)"
   ]
  },
  {
   "cell_type": "code",
   "execution_count": 9,
   "id": "50a3bb01",
   "metadata": {},
   "outputs": [],
   "source": [
    "# load the weights and history from the file and evaluate the model\n",
    "with open('C17Correctionmodel.pkl', 'rb') as f:\n",
    "    data = pickle.load(f)\n",
    "model.set_weights(data['weights'])"
   ]
  },
  {
   "cell_type": "code",
   "execution_count": 11,
   "id": "31d3e0fa",
   "metadata": {},
   "outputs": [
    {
     "name": "stdout",
     "output_type": "stream",
     "text": [
      "Class 0:\n",
      "  Total: 6571\n",
      "  Correct: 6571\n",
      "  True 0: 6571\n",
      "  False 1: 0\n",
      "  False 2: 0\n",
      "  False 3: 0\n",
      "  Accuracy: 1.0\n",
      "Class 1:\n",
      "  Total: 3602\n",
      "  Correct: 3602\n",
      "  True 1: 3602\n",
      "  False 0: 0\n",
      "  False 2: 0\n",
      "  False 3: 0\n",
      "  Accuracy: 1.0\n",
      "Class 2:\n",
      "  Total: 3597\n",
      "  Correct: 3597\n",
      "  True 2: 3597\n",
      "  False 0: 0\n",
      "  False 1: 0\n",
      "  False 3: 0\n",
      "  Accuracy: 1.0\n",
      "Class 3:\n",
      "  Total: 9561\n",
      "  Correct: 9561\n",
      "  True 3: 9561\n",
      "  False 0: 0\n",
      "  False 1: 0\n",
      "  False 2: 0\n",
      "  Accuracy: 1.0\n"
     ]
    }
   ],
   "source": [
    "predictions = model.predict(x_test)\n",
    "y_pred_classes = np.argmax(predictions, axis=1)\n",
    "\n",
    "# compute class-wise accuracy and confusion matrix\n",
    "class_0_correct = 0\n",
    "class_0_total = 0\n",
    "\n",
    "class_0_true_0 = 0\n",
    "class_0_false_1 = 0\n",
    "class_0_false_2 = 0\n",
    "class_0_false_3 = 0\n",
    "\n",
    "class_1_correct = 0\n",
    "class_1_total = 0\n",
    "class_1_true_1 = 0\n",
    "class_1_false_0 = 0\n",
    "class_1_false_2 = 0\n",
    "class_1_false_3 = 0\n",
    "\n",
    "class_2_correct = 0\n",
    "class_2_total = 0\n",
    "class_2_true_2 = 0\n",
    "class_2_false_0 = 0\n",
    "class_2_false_1 = 0\n",
    "class_2_false_3 = 0\n",
    "\n",
    "class_3_correct = 0\n",
    "class_3_total = 0\n",
    "class_3_true_3 = 0\n",
    "class_3_false_0 = 0\n",
    "class_3_false_1 = 0\n",
    "class_3_false_2 = 0\n",
    "\n",
    "for i in range(len(y_test)):\n",
    "    true_class = y_test[i]\n",
    "    pred_class = y_pred_classes[i]\n",
    "    if true_class == 0:\n",
    "        if pred_class == 0:\n",
    "            class_0_correct += 1\n",
    "            class_0_true_0 += 1\n",
    "        elif pred_class == 1:\n",
    "            class_0_false_1 += 1\n",
    "        elif pred_class == 2:\n",
    "            class_0_false_2 += 1\n",
    "        elif pred_class == 3:\n",
    "            class_0_false_3 += 1\n",
    "        else:\n",
    "            print(\"class 0 else\")\n",
    "        class_0_total += 1\n",
    "        \n",
    "    elif true_class == 1:\n",
    "        if pred_class == 0:\n",
    "            class_1_false_0 += 1\n",
    "        elif pred_class == 1:\n",
    "            class_1_correct += 1\n",
    "            class_1_true_1 += 1\n",
    "        elif pred_class == 2:\n",
    "            class_1_false_2 += 1\n",
    "        elif pred_class == 3:\n",
    "            class_1_false_3 += 1\n",
    "        else:\n",
    "            print(\"class 1 else\")\n",
    "        class_1_total += 1\n",
    "        \n",
    "    elif true_class == 2:\n",
    "        if pred_class == 0:\n",
    "            class_2_false_0 += 1\n",
    "        elif pred_class == 1:\n",
    "            class_2_false_1 += 1\n",
    "        elif pred_class == 2:\n",
    "            class_2_correct += 1\n",
    "            class_2_true_2 += 1\n",
    "        elif pred_class == 3:\n",
    "            class_2_false_3 += 1\n",
    "        else:\n",
    "            print(\"class 2 else\")\n",
    "        class_2_total += 1\n",
    "    \n",
    "    elif true_class == 3:\n",
    "        if pred_class == 0:\n",
    "            class_3_false_0 += 1\n",
    "        elif pred_class == 1:\n",
    "            class_3_false_1 += 1\n",
    "        elif pred_class == 2:\n",
    "            class_3_false_2 += 1\n",
    "        elif pred_class == 3:\n",
    "            class_3_correct += 1\n",
    "            class_3_true_3 += 1\n",
    "        else:\n",
    "            print(\"class 3 else\")\n",
    "        class_3_total += 1\n",
    "    \n",
    "    else:\n",
    "        print(\"class else\")\n",
    "\n",
    "class_0_accuracy = class_0_correct / (class_0_total)\n",
    "class_1_accuracy = class_1_correct / (class_1_total)\n",
    "class_2_accuracy = class_2_correct / (class_2_total)\n",
    "class_3_accuracy = class_3_correct / (class_3_total)\n",
    "\n",
    "print(\"Class 0:\")\n",
    "print(f\"  Total: {class_0_total}\")\n",
    "print(f\"  Correct: {class_0_correct}\")\n",
    "print(f\"  True 0: {class_0_true_0}\")\n",
    "print(f\"  False 1: {class_0_false_1}\")\n",
    "print(f\"  False 2: {class_0_false_2}\")\n",
    "print(f\"  False 3: {class_0_false_3}\")\n",
    "print(f\"  Accuracy: {class_0_accuracy}\")\n",
    "\n",
    "print(\"Class 1:\")\n",
    "print(f\"  Total: {class_1_total}\")\n",
    "print(f\"  Correct: {class_1_correct}\")\n",
    "print(f\"  True 1: {class_1_true_1}\")\n",
    "print(f\"  False 0: {class_1_false_0}\")\n",
    "print(f\"  False 2: {class_1_false_2}\")\n",
    "print(f\"  False 3: {class_1_false_3}\")\n",
    "print(f\"  Accuracy: {class_1_accuracy}\")\n",
    "\n",
    "print(\"Class 2:\")\n",
    "print(f\"  Total: {class_2_total}\")\n",
    "print(f\"  Correct: {class_2_correct}\")\n",
    "print(f\"  True 2: {class_2_true_2}\")\n",
    "print(f\"  False 0: {class_2_false_0}\")\n",
    "print(f\"  False 1: {class_2_false_1}\")\n",
    "print(f\"  False 3: {class_2_false_3}\")\n",
    "print(f\"  Accuracy: {class_2_accuracy}\")\n",
    "\n",
    "print(\"Class 3:\")\n",
    "print(f\"  Total: {class_3_total}\")\n",
    "print(f\"  Correct: {class_3_correct}\")\n",
    "print(f\"  True 3: {class_3_true_3}\")\n",
    "print(f\"  False 0: {class_3_false_0}\")\n",
    "print(f\"  False 1: {class_3_false_1}\")\n",
    "print(f\"  False 2: {class_3_false_2}\")\n",
    "print(f\"  Accuracy: {class_3_accuracy}\")"
   ]
  },
  {
   "cell_type": "code",
   "execution_count": null,
   "id": "a6b8f258",
   "metadata": {},
   "outputs": [],
   "source": []
  },
  {
   "cell_type": "code",
   "execution_count": null,
   "id": "3ffc84b0",
   "metadata": {},
   "outputs": [],
   "source": []
  }
 ],
 "metadata": {
  "kernelspec": {
   "display_name": "Python 3",
   "language": "python",
   "name": "python3"
  },
  "language_info": {
   "codemirror_mode": {
    "name": "ipython",
    "version": 3
   },
   "file_extension": ".py",
   "mimetype": "text/x-python",
   "name": "python",
   "nbconvert_exporter": "python",
   "pygments_lexer": "ipython3",
   "version": "3.8.8"
  }
 },
 "nbformat": 4,
 "nbformat_minor": 5
}
