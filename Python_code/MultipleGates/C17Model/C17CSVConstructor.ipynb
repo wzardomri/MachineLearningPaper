{
 "cells": [
  {
   "cell_type": "code",
   "execution_count": 1,
   "id": "b380849c",
   "metadata": {},
   "outputs": [],
   "source": [
    "import pandas as pd\n",
    "import numpy as np\n",
    "import random\n",
    "\n",
    "C17_Verification_Data = pd.DataFrame(columns = [\"CLOCK\", \"IN1\", \"IN2\", \"IN3\", \"IN4\", \"IN5\", \"OUTCHANGED1\", \"OUTCHANGED2\", \"CORRECT\"])\n",
    "C17_Correction_Data = pd.DataFrame(columns = [\"CLOCK\", \"IN1\", \"IN2\", \"IN3\", \"IN4\", \"IN5\", \"OUT1\", \"OUT2\"])\n",
    "readin = pd.read_csv(\"c17_csv.txt\")"
   ]
  },
  {
   "cell_type": "code",
   "execution_count": 2,
   "id": "e6ce15aa",
   "metadata": {},
   "outputs": [],
   "source": [
    "C17_Correction_Data[\"CLOCK\"] = readin[\"clock\"]\n",
    "C17_Correction_Data[\"IN5\"] = readin[\"in1\"]\n",
    "C17_Correction_Data[\"IN4\"] = readin[\"in2\"]\n",
    "C17_Correction_Data[\"IN3\"] = readin[\"in3\"]\n",
    "C17_Correction_Data[\"IN2\"] = readin[\"in4\"]\n",
    "C17_Correction_Data[\"IN1\"] = readin[\"in5\"]\n",
    "C17_Correction_Data[\"OUT1\"] = readin[\"output1\"]\n",
    "C17_Correction_Data[\"OUT2\"] = readin[\"output2\"]"
   ]
  },
  {
   "cell_type": "code",
   "execution_count": 3,
   "id": "05b28c2d",
   "metadata": {},
   "outputs": [],
   "source": [
    "#OUTPUT CORRECTION DATA HERE, ODD MEMORY THING HAPPENS"
   ]
  },
  {
   "cell_type": "code",
   "execution_count": 4,
   "id": "5f3fe211",
   "metadata": {},
   "outputs": [],
   "source": [
    "C17_Verification_Data[\"CLOCK\"] = readin[\"clock\"]\n",
    "C17_Verification_Data[\"IN5\"] = readin[\"in1\"]\n",
    "C17_Verification_Data[\"IN4\"] = readin[\"in2\"]\n",
    "C17_Verification_Data[\"IN3\"] = readin[\"in3\"]\n",
    "C17_Verification_Data[\"IN2\"] = readin[\"in4\"]\n",
    "C17_Verification_Data[\"IN1\"] = readin[\"in5\"]\n",
    "\n",
    "\n",
    "for item in range(0,len(readin[\"output1\"])):\n",
    "    check = random.randint(0,9)\n",
    "    C17_Correction_Data.loc[item, \"OUT2\"] = int(C17_Correction_Data.loc[item, \"OUT2\"])\n",
    "    #print(item)\n",
    "    if(check%2 == 1):\n",
    "        #print(\"In1\")\n",
    "        C17_Verification_Data.loc[item, \"CORRECT\"] = 0\n",
    "        newcheck = random.randint(0,2)\n",
    "        if(newcheck == 0):\n",
    "            if(C17_Correction_Data.loc[item, \"OUT1\"] == 1):\n",
    "                C17_Verification_Data.loc[item, \"OUTCHANGED1\"] = 0\n",
    "            elif(C17_Correction_Data.loc[item, \"OUT1\"] == 0):\n",
    "                C17_Verification_Data.loc[item, \"OUTCHANGED1\"] = 1\n",
    "            else:\n",
    "                print(\"inneruhoh1\")\n",
    "                #print(outchanged1[item])\n",
    "                \n",
    "            if(C17_Correction_Data.loc[item, \"OUT2\"] == \"1\" or C17_Correction_Data.loc[item, \"OUT2\"] == 1):\n",
    "                C17_Verification_Data.loc[item, \"OUTCHANGED2\"] = 0\n",
    "            elif(C17_Correction_Data.loc[item, \"OUT2\"] == \"0\" or C17_Correction_Data.loc[item, \"OUT2\"] == 0):\n",
    "                C17_Verification_Data.loc[item, \"OUTCHANGED2\"] = 1\n",
    "            else:\n",
    "                print(\"inneruhoh2\")\n",
    "                print(C17_Verification_Data.loc[item, \"OUTCHANGED2\"])\n",
    "                print(C17_Correction_Data.loc[item, \"OUT2\"])\n",
    "                if(C17_Correction_Data.loc[item, \"OUT2\"] == 1):\n",
    "                    print(\"its one\")               \n",
    "                elif(C17_Correction_Data.loc[item, \"OUT2\"] == 0):\n",
    "                    print(\"its zero\")\n",
    "        elif(newcheck == 1):\n",
    "            C17_Verification_Data.loc[item, \"OUTCHANGED2\"] = int(C17_Correction_Data.loc[item, \"OUT2\"])\n",
    "            if(C17_Correction_Data.loc[item, \"OUT1\"] == 1):\n",
    "                C17_Verification_Data.loc[item, \"OUTCHANGED1\"] = 0\n",
    "            elif(C17_Correction_Data.loc[item, \"OUT1\"] == 0):\n",
    "                C17_Verification_Data.loc[item, \"OUTCHANGED1\"] = 1\n",
    "            else:\n",
    "                print(\"inneruhoh3\")\n",
    "                #print(outchanged1[item])\n",
    "        elif(newcheck == 2):\n",
    "            C17_Verification_Data.loc[item, \"OUTCHANGED1\"] = int(C17_Correction_Data.loc[item, \"OUT1\"])\n",
    "            if(C17_Correction_Data.loc[item, \"OUT2\"] == \"1\" or C17_Correction_Data.loc[item, \"OUT2\"] == 1):\n",
    "                C17_Verification_Data.loc[item, \"OUTCHANGED2\"] = 0\n",
    "            elif(C17_Correction_Data.loc[item, \"OUT2\"] == \"0\" or C17_Correction_Data.loc[item, \"OUT2\"] == 0):\n",
    "                C17_Verification_Data.loc[item, \"OUTCHANGED2\"] = 1\n",
    "            else:\n",
    "                print(\"inneruhoh4\")\n",
    "                print(item)\n",
    "                print(C17_Verification_Data.loc[item, \"OUTCHANGED2\"])\n",
    "                print(C17_Correction_Data.loc[item, \"OUT2\"])\n",
    "                if(C17_Correction_Data.loc[item, \"OUT2\"] == 1):\n",
    "                    print(\"its one\")               \n",
    "                elif(C17_Correction_Data.loc[item, \"OUT2\"] == 0):\n",
    "                    print(\"its zero\")\n",
    "                #print(outchanged2[item])\n",
    "        else:\n",
    "            print(\"uhoh1\")\n",
    "    elif(check%2 == 0):\n",
    "        #print(\"in2\")\n",
    "        C17_Verification_Data.loc[item, \"OUTCHANGED2\"] = int(C17_Correction_Data.loc[item, \"OUT2\"])\n",
    "        C17_Verification_Data.loc[item, \"OUTCHANGED1\"] = int(C17_Correction_Data.loc[item, \"OUT1\"])\n",
    "        C17_Verification_Data.loc[item, \"CORRECT\"] = 1\n",
    "    else:\n",
    "        print(\"uhoh2\")"
   ]
  },
  {
   "cell_type": "code",
   "execution_count": 9,
   "id": "b0623c01",
   "metadata": {},
   "outputs": [],
   "source": [
    "C17_Verification_Data.to_csv(\"C17_Verification_Data.csv\")\n",
    "C17_Correction_Data.to_csv(\"C17_Correction_Data.csv\")"
   ]
  },
  {
   "cell_type": "code",
   "execution_count": null,
   "id": "bfc27c77",
   "metadata": {},
   "outputs": [],
   "source": []
  }
 ],
 "metadata": {
  "kernelspec": {
   "display_name": "Python 3",
   "language": "python",
   "name": "python3"
  },
  "language_info": {
   "codemirror_mode": {
    "name": "ipython",
    "version": 3
   },
   "file_extension": ".py",
   "mimetype": "text/x-python",
   "name": "python",
   "nbconvert_exporter": "python",
   "pygments_lexer": "ipython3",
   "version": "3.8.8"
  }
 },
 "nbformat": 4,
 "nbformat_minor": 5
}
