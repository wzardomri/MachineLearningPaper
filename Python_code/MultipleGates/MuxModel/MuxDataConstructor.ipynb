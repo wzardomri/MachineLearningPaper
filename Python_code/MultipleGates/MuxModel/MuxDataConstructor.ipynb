{
 "cells": [
  {
   "cell_type": "code",
   "execution_count": 10,
   "id": "8348ff52",
   "metadata": {},
   "outputs": [],
   "source": [
    "import pandas as pd\n",
    "import numpy as np\n",
    "import random\n",
    "\n",
    "Mux_Verification_Data = pd.DataFrame(columns = [\"clock\", \"D0\" ,\"D1\", \"D2\", \"D3\", \"D4\", \"D5\", \"D6\", \"D7\", \"S0\", \"S1\", \"S2\", \"OUTCHANGED\", \"CORRECT\"])\n",
    "Mux_Correction_Data = pd.DataFrame(columns = [\"clock\", \"D0\" ,\"D1\", \"D2\", \"D3\", \"D4\", \"D5\", \"D6\", \"D7\", \"S0\", \"S1\", \"S2\", \"out\"])\n",
    "readin = pd.read_csv(\"mux_csv.txt\")"
   ]
  },
  {
   "cell_type": "code",
   "execution_count": 20,
   "id": "2ca10079",
   "metadata": {},
   "outputs": [
    {
     "data": {
      "text/html": [
       "<div>\n",
       "<style scoped>\n",
       "    .dataframe tbody tr th:only-of-type {\n",
       "        vertical-align: middle;\n",
       "    }\n",
       "\n",
       "    .dataframe tbody tr th {\n",
       "        vertical-align: top;\n",
       "    }\n",
       "\n",
       "    .dataframe thead th {\n",
       "        text-align: right;\n",
       "    }\n",
       "</style>\n",
       "<table border=\"1\" class=\"dataframe\">\n",
       "  <thead>\n",
       "    <tr style=\"text-align: right;\">\n",
       "      <th></th>\n",
       "      <th>clock</th>\n",
       "      <th>D0</th>\n",
       "      <th>D1</th>\n",
       "      <th>D2</th>\n",
       "      <th>D3</th>\n",
       "      <th>D4</th>\n",
       "      <th>D5</th>\n",
       "      <th>D6</th>\n",
       "      <th>D7</th>\n",
       "      <th>S0</th>\n",
       "      <th>S1</th>\n",
       "      <th>S2</th>\n",
       "      <th>out</th>\n",
       "    </tr>\n",
       "  </thead>\n",
       "  <tbody>\n",
       "    <tr>\n",
       "      <th>18</th>\n",
       "      <td>18</td>\n",
       "      <td>0</td>\n",
       "      <td>0</td>\n",
       "      <td>0</td>\n",
       "      <td>0</td>\n",
       "      <td>0</td>\n",
       "      <td>0</td>\n",
       "      <td>1</td>\n",
       "      <td>0</td>\n",
       "      <td>0</td>\n",
       "      <td>1</td>\n",
       "      <td>0</td>\n",
       "      <td>0</td>\n",
       "    </tr>\n",
       "    <tr>\n",
       "      <th>19</th>\n",
       "      <td>19</td>\n",
       "      <td>0</td>\n",
       "      <td>0</td>\n",
       "      <td>0</td>\n",
       "      <td>0</td>\n",
       "      <td>0</td>\n",
       "      <td>0</td>\n",
       "      <td>1</td>\n",
       "      <td>0</td>\n",
       "      <td>0</td>\n",
       "      <td>1</td>\n",
       "      <td>1</td>\n",
       "      <td>1</td>\n",
       "    </tr>\n",
       "  </tbody>\n",
       "</table>\n",
       "</div>"
      ],
      "text/plain": [
       "    clock  D0  D1  D2  D3  D4  D5  D6  D7  S0  S1  S2  out\n",
       "18     18   0   0   0   0   0   0   1   0   0   1   0    0\n",
       "19     19   0   0   0   0   0   0   1   0   0   1   1    1"
      ]
     },
     "execution_count": 20,
     "metadata": {},
     "output_type": "execute_result"
    }
   ],
   "source": [
    "Mux_Correction_Data[18:20]"
   ]
  },
  {
   "cell_type": "code",
   "execution_count": 11,
   "id": "93f014ee",
   "metadata": {},
   "outputs": [],
   "source": [
    "Mux_Correction_Data[\"clock\"] = readin[\"clock\"]\n",
    "Mux_Correction_Data[\"D0\"] = readin[\"D0\"]\n",
    "Mux_Correction_Data[\"D1\"] = readin[\"D1\"]\n",
    "Mux_Correction_Data[\"D2\"] = readin[\"D2\"]\n",
    "Mux_Correction_Data[\"D3\"] = readin[\"D3\"]\n",
    "Mux_Correction_Data[\"D4\"] = readin[\"D4\"]\n",
    "Mux_Correction_Data[\"D5\"] = readin[\"D5\"]\n",
    "Mux_Correction_Data[\"D6\"] = readin[\"D6\"]\n",
    "Mux_Correction_Data[\"D7\"] = readin[\"D7\"]\n",
    "Mux_Correction_Data[\"S0\"] = readin[\"S0\"]\n",
    "Mux_Correction_Data[\"S1\"] = readin[\"S1\"]\n",
    "Mux_Correction_Data[\"S2\"] = readin[\"S2\"]\n",
    "Mux_Correction_Data[\"out\"] = readin[\"out\"]\n",
    "\n",
    "Mux_Verification_Data[\"clock\"] = Mux_Correction_Data[\"clock\"]\n",
    "Mux_Verification_Data[\"D0\"] = Mux_Correction_Data[\"D0\"]\n",
    "Mux_Verification_Data[\"D1\"] = Mux_Correction_Data[\"D1\"]\n",
    "Mux_Verification_Data[\"D2\"] = Mux_Correction_Data[\"D2\"]\n",
    "Mux_Verification_Data[\"D3\"] = Mux_Correction_Data[\"D3\"]\n",
    "Mux_Verification_Data[\"D4\"] = Mux_Correction_Data[\"D4\"]\n",
    "Mux_Verification_Data[\"D5\"] = Mux_Correction_Data[\"D5\"]\n",
    "Mux_Verification_Data[\"D6\"] = Mux_Correction_Data[\"D6\"]\n",
    "Mux_Verification_Data[\"D7\"] = Mux_Correction_Data[\"D7\"]\n",
    "Mux_Verification_Data[\"S0\"] = Mux_Correction_Data[\"S0\"]\n",
    "Mux_Verification_Data[\"S1\"] = Mux_Correction_Data[\"S1\"]\n",
    "Mux_Verification_Data[\"S2\"] = Mux_Correction_Data[\"S2\"]\n",
    "Mux_Verification_Data[\"OUTCHANGED\"] = Mux_Correction_Data[\"out\"]\n",
    "Mux_Verification_Data[\"CORRECT\"] = Mux_Correction_Data[\"out\"]\n",
    "\n",
    "\n",
    "\n",
    "\n",
    "Mux_Correction_Data.to_csv(\"Mux_Correction_Data.csv\")"
   ]
  },
  {
   "cell_type": "code",
   "execution_count": 12,
   "id": "6ffa291d",
   "metadata": {},
   "outputs": [],
   "source": [
    "for item in list(range(0,len(Mux_Verification_Data))):\n",
    "    check = random.randint(0,9);\n",
    "    if(check%2 == 1):\n",
    "        Mux_Verification_Data[\"CORRECT\"][item] = 0;\n",
    "        if(Mux_Verification_Data[\"OUTCHANGED\"][item] == 1):\n",
    "            Mux_Verification_Data[\"OUTCHANGED\"][item] = 0;\n",
    "        elif(Mux_Verification_Data[\"OUTCHANGED\"][item] == 0):\n",
    "            Mux_Verification_Data[\"OUTCHANGED\"][item] = 1;\n",
    "        else:\n",
    "            print(\"uhoh1\")\n",
    "    elif(check%2 == 0):\n",
    "        Mux_Verification_Data[\"CORRECT\"][item] = 1;\n",
    "    else:\n",
    "        print(\"uhoh2\")"
   ]
  },
  {
   "cell_type": "code",
   "execution_count": 13,
   "id": "f4496e66",
   "metadata": {},
   "outputs": [],
   "source": [
    "Mux_Verification_Data.to_csv(\"Mux_Verification_Data.csv\")"
   ]
  },
  {
   "cell_type": "code",
   "execution_count": null,
   "id": "bc780ddc",
   "metadata": {},
   "outputs": [],
   "source": []
  }
 ],
 "metadata": {
  "kernelspec": {
   "display_name": "Python 3",
   "language": "python",
   "name": "python3"
  },
  "language_info": {
   "codemirror_mode": {
    "name": "ipython",
    "version": 3
   },
   "file_extension": ".py",
   "mimetype": "text/x-python",
   "name": "python",
   "nbconvert_exporter": "python",
   "pygments_lexer": "ipython3",
   "version": "3.8.8"
  }
 },
 "nbformat": 4,
 "nbformat_minor": 5
}
