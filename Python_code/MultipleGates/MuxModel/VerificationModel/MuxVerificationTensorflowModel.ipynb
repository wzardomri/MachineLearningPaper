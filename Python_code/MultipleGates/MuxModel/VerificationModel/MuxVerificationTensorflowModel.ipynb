{
 "cells": [
  {
   "cell_type": "code",
   "execution_count": 1,
   "id": "334884d3",
   "metadata": {},
   "outputs": [
    {
     "name": "stderr",
     "output_type": "stream",
     "text": [
      "/Users/omristeinberg-tatman/opt/anaconda3/lib/python3.8/site-packages/scipy/__init__.py:138: UserWarning: A NumPy version >=1.16.5 and <1.23.0 is required for this version of SciPy (detected version 1.23.4)\n",
      "  warnings.warn(f\"A NumPy version >={np_minversion} and <{np_maxversion} is required for this version of \"\n"
     ]
    }
   ],
   "source": [
    "import tensorflow as tf\n",
    "import pandas as pd\n",
    "import numpy as np\n",
    "from sklearn.model_selection import train_test_split\n",
    "import pickle\n",
    "from matplotlib import pyplot\n",
    "from keras.optimizers import SGD\n",
    "np.set_printoptions(threshold=np.sys.maxsize)"
   ]
  },
  {
   "cell_type": "code",
   "execution_count": 2,
   "id": "25fd1418",
   "metadata": {},
   "outputs": [
    {
     "name": "stdout",
     "output_type": "stream",
     "text": [
      "(66670, 12) (33330, 12) (66670,) (33330,)\n"
     ]
    }
   ],
   "source": [
    "#define the data\n",
    "FullData = pd.read_csv(\"Mux_Verification_Data.csv\")\n",
    "\n",
    "x, y = FullData.values[:, 2:-1], FullData.values[:, -1]\n",
    "x_train, x_test, y_train, y_test = train_test_split(x, y, test_size=0.3333)\n",
    "print(x_train.shape, x_test.shape, y_train.shape, y_test.shape)\n",
    "n_features = x_train.shape[1]"
   ]
  },
  {
   "cell_type": "code",
   "execution_count": 3,
   "id": "80b6bb5c",
   "metadata": {},
   "outputs": [],
   "source": [
    "# define the model\n",
    "model = tf.keras.Sequential()\n",
    "model.add(tf.keras.layers.Dense(100, input_shape=(n_features,), activation= \"relu\"))\n",
    "model.add(tf.keras.layers.Dense(80, activation= \"relu\"))\n",
    "model.add(tf.keras.layers.Dense(80, activation= \"relu\"))\n",
    "model.add(tf.keras.layers.Dense(80, activation= \"relu\"))\n",
    "model.add(tf.keras.layers.Dense(30, activation= \"relu\"))\n",
    "model.add(tf.keras.layers.Dense(30, activation= \"relu\"))\n",
    "model.add(tf.keras.layers.Dense(30, activation= \"relu\"))\n",
    "model.add(tf.keras.layers.Dense(30, activation= \"relu\"))\n",
    "model.add(tf.keras.layers.Dense(10, activation= \"relu\"))\n",
    "model.add(tf.keras.layers.Dense(10, activation= \"relu\"))\n",
    "model.add(tf.keras.layers.Dense(10, activation= \"relu\"))\n",
    "model.add(tf.keras.layers.Dense(5, activation= \"relu\"))\n",
    "model.add(tf.keras.layers.Dense(5, activation= \"relu\"))\n",
    "model.add(tf.keras.layers.Dense(5, activation= \"relu\"))\n",
    "model.add(tf.keras.layers.Dense(5, activation= \"relu\"))\n",
    "model.add(tf.keras.layers.Dense(5, activation= \"relu\"))\n",
    "model.add(tf.keras.layers.Dense(1, activation='sigmoid'))\n",
    "predictions = model(np.asarray(x_train).astype('float32')).numpy()\n",
    "opt = SGD(lr=0.01)\n",
    "model.compile(optimizer=opt, loss=\"binary_crossentropy\", metrics=['accuracy'])"
   ]
  },
  {
   "cell_type": "code",
   "execution_count": 6,
   "id": "1f023fe9",
   "metadata": {},
   "outputs": [
    {
     "name": "stdout",
     "output_type": "stream",
     "text": [
      "2084/2084 [==============================] - 3s 1ms/step - loss: 4.4322e-05 - accuracy: 1.0000\n"
     ]
    }
   ],
   "source": [
    "history = model.fit(x_train, y_train, epochs=1)"
   ]
  },
  {
   "cell_type": "code",
   "execution_count": 34,
   "id": "0fc5c915",
   "metadata": {},
   "outputs": [
    {
     "name": "stdout",
     "output_type": "stream",
     "text": [
      "Train: 1.000, Test: 1.000\n"
     ]
    },
    {
     "data": {
      "image/png": "[encoded data removed]",
      "text/plain": [
       "<Figure size 432x288 with 2 Axes>"
      ]
     },
     "metadata": {
      "needs_background": "light"
     },
     "output_type": "display_data"
    }
   ],
   "source": [
    "_, train_acc = model.evaluate(x_train, y_train, verbose=0)\n",
    "_, test_acc = model.evaluate(x_test, y_test, verbose=0)\n",
    "print('Train: %.3f, Test: %.3f' % (train_acc, test_acc))\n",
    "# plot loss during training\n",
    "pyplot.subplot(211)\n",
    "pyplot.title('Loss')\n",
    "pyplot.plot(history.history['loss'], label='train')\n",
    "pyplot.legend()\n",
    "# plot accuracy during training\n",
    "pyplot.subplot(212)\n",
    "pyplot.title('Accuracy')\n",
    "pyplot.plot(history.history['accuracy'], label='train')\n",
    "pyplot.legend()\n",
    "pyplot.show()"
   ]
  },
  {
   "cell_type": "code",
   "execution_count": 35,
   "id": "777ce172",
   "metadata": {},
   "outputs": [],
   "source": [
    "with open('Muxverificationmodel.pkl', 'wb') as f:\n",
    "    pickle.dump({'weights': model.get_weights(), 'history': history.history}, f)"
   ]
  },
  {
   "cell_type": "code",
   "execution_count": 4,
   "id": "02a34e8a",
   "metadata": {},
   "outputs": [],
   "source": [
    "# load the weights and history from the file and evaluate the model\n",
    "with open('Muxverificationmodel.pkl', 'rb') as f:\n",
    "    data = pickle.load(f)\n",
    "model.set_weights(data['weights'])"
   ]
  },
  {
   "cell_type": "code",
   "execution_count": 5,
   "id": "0a8de809",
   "metadata": {},
   "outputs": [
    {
     "name": "stdout",
     "output_type": "stream",
     "text": [
      "Class 0:\n",
      "  Total: 16735\n",
      "  Correct: 16735\n",
      "  True 0: 16735\n",
      "  False 1: 0\n",
      "  Accuracy: 1.0\n",
      "Class 1:\n",
      "  Total: 16595\n",
      "  Correct: 16595\n",
      "  True 1: 16595\n",
      "  False 0: 0\n",
      "  Accuracy: 1.0\n"
     ]
    }
   ],
   "source": [
    "y_pred = model.predict(x_test)\n",
    "y_pred_classes = np.round(y_pred).flatten()\n",
    "\n",
    "# compute class-wise accuracy and confusion matrix\n",
    "class_0_correct = 0\n",
    "class_0_total = 0\n",
    "class_0_true_0 = 0\n",
    "class_0_false_1 = 0\n",
    "class_1_correct = 0\n",
    "class_1_total = 0\n",
    "class_1_true_1 = 0\n",
    "class_1_false_0 = 0\n",
    "for i in range(len(y_test)):\n",
    "    true_class = y_test[i]\n",
    "    pred_class = y_pred_classes[i]\n",
    "    if true_class == 0:\n",
    "        class_0_total += 1\n",
    "        if pred_class == 0:\n",
    "            class_0_correct += 1\n",
    "            class_0_true_0 += 1\n",
    "        else:\n",
    "            class_0_false_1 += 1\n",
    "    elif true_class == 1:\n",
    "        class_1_total += 1\n",
    "        if pred_class == 1:\n",
    "            class_1_correct += 1\n",
    "            class_1_true_1 += 1\n",
    "        else:\n",
    "            class_1_false_0 += 1\n",
    "\n",
    "class_0_accuracy = class_0_correct / class_0_total\n",
    "class_1_accuracy = class_1_correct / class_1_total\n",
    "\n",
    "print(\"Class 0:\")\n",
    "print(f\"  Total: {class_0_total}\")\n",
    "print(f\"  Correct: {class_0_correct}\")\n",
    "print(f\"  True 0: {class_0_true_0}\")\n",
    "print(f\"  False 1: {class_0_false_1}\")\n",
    "print(f\"  Accuracy: {class_0_accuracy}\")\n",
    "print(\"Class 1:\")\n",
    "print(f\"  Total: {class_1_total}\")\n",
    "print(f\"  Correct: {class_1_correct}\")\n",
    "print(f\"  True 1: {class_1_true_1}\")\n",
    "print(f\"  False 0: {class_1_false_0}\")\n",
    "print(f\"  Accuracy: {class_1_accuracy}\")"
   ]
  },
  {
   "cell_type": "code",
   "execution_count": null,
   "id": "a5772c6f",
   "metadata": {},
   "outputs": [],
   "source": []
  }
 ],
 "metadata": {
  "kernelspec": {
   "display_name": "Python 3",
   "language": "python",
   "name": "python3"
  },
  "language_info": {
   "codemirror_mode": {
    "name": "ipython",
    "version": 3
   },
   "file_extension": ".py",
   "mimetype": "text/x-python",
   "name": "python",
   "nbconvert_exporter": "python",
   "pygments_lexer": "ipython3",
   "version": "3.8.8"
  }
 },
 "nbformat": 4,
 "nbformat_minor": 5
}
